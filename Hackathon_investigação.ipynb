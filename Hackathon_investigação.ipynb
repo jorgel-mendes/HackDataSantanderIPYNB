{
  "nbformat": 4,
  "nbformat_minor": 0,
  "metadata": {
    "colab": {
      "name": "Hackathon_investigação",
      "provenance": [],
      "collapsed_sections": [],
      "mount_file_id": "1skoi5wwMKXX7ns1SOL0ZVNFvf7e_jWNP",
      "authorship_tag": "ABX9TyMjWUsTWkgdZAkcU3QQGnct",
      "include_colab_link": true
    },
    "kernelspec": {
      "name": "python3",
      "display_name": "Python 3"
    }
  },
  "cells": [
    {
      "cell_type": "markdown",
      "metadata": {
        "id": "view-in-github",
        "colab_type": "text"
      },
      "source": [
        "<a href=\"https://colab.research.google.com/github/jorgel-mendes/HackDataSantanderIPYNB/blob/master/Hackathon_investiga%C3%A7%C3%A3o.ipynb\" target=\"_parent\"><img src=\"https://colab.research.google.com/assets/colab-badge.svg\" alt=\"Open In Colab\"/></a>"
      ]
    },
    {
      "cell_type": "markdown",
      "metadata": {
        "id": "DGgCQsxefWIj",
        "colab_type": "text"
      },
      "source": [
        "# Rumo ao Prospper\n",
        "\n",
        "Esse notebook mostra exploração de dados que embasou a criação do Prospper, uma solução integrada com o CoPiloto Santander que busca empoderar donos de negócio fornecendo informação em um formato de simples utilização. \n",
        "\n",
        "A solução foi criada para o Hackathon Data Challenge do Santander do grupo 41.\n",
        "\n",
        "Na nossa análise de compreensão do problema utilizamos dados do IBGE recolhidos no site do [IPEA](http://www.ipeadata.gov.br/Default.aspx) e uma [API em Python](https://github.com/GeneralMills/pytrends) para o google trends."
      ]
    },
    {
      "cell_type": "code",
      "metadata": {
        "id": "QI18wKcpddf0",
        "colab_type": "code",
        "colab": {}
      },
      "source": [
        "!pip install -q pytrends"
      ],
      "execution_count": 1,
      "outputs": []
    },
    {
      "cell_type": "code",
      "metadata": {
        "id": "LyfmVmqzrpGT",
        "colab_type": "code",
        "colab": {}
      },
      "source": [
        "import pandas as pd\n",
        "import altair as alt\n",
        "alt.renderers.enable(embed_options={'theme': 'googlecharts'})\n",
        "\n",
        "from datetime import datetime"
      ],
      "execution_count": 2,
      "outputs": []
    },
    {
      "cell_type": "markdown",
      "metadata": {
        "id": "_hriuJW6gwQD",
        "colab_type": "text"
      },
      "source": [
        "## Análise do setor de Varejo em 2020\n",
        "\n"
      ]
    },
    {
      "cell_type": "markdown",
      "metadata": {
        "id": "0eO5w3Lx7wOi",
        "colab_type": "text"
      },
      "source": [
        "Pensando em como a crise afetou os pequenos negócios em geral, decidimos focar no setor de varejo.\n",
        "\n",
        "Foi utilizada a base de Indíce de varejo do IBGE para acompanhar o desempenho do setor nos ultimos anos. Os dados da base foram colhidos no IPEADATA, site do Instituto de Pesquisa Econômica Aplicada (IPEA)."
      ]
    },
    {
      "cell_type": "code",
      "metadata": {
        "id": "SnkH8qmipLqL",
        "colab_type": "code",
        "colab": {
          "base_uri": "https://localhost:8080/",
          "height": 386
        },
        "outputId": "b601ab75-c517-4f57-e9a4-2260e0d87bc4"
      },
      "source": [
        "ipea_varejo = pd.read_csv('https://raw.githubusercontent.com/jorgel-mendes/HackDataSantanderIPYNB/master/ipeadata%5B02-08-2020-01-36%5D.csv')\n",
        "ipea_varejo.drop(ipea_varejo.columns[2], axis=1, inplace=True)\n",
        "ipea_varejo.columns = ['Data', 'Vendas reais (varejo)']\n",
        "ipea_varejo['Data'] = ipea_varejo['Data'].apply(\n",
        "    lambda x: datetime.strptime(str(x), '%Y.%m'))\n",
        "\n",
        "alt.Chart(\n",
        "    ipea_varejo.query('Data > \"2008-12-31\"')\n",
        "    ).mark_line().encode(\n",
        "    x=alt.X('Data', title=''),\n",
        "    y=alt.Y('Vendas reais (varejo)',\n",
        "            title='Index de vendas de varejo',\n",
        "            scale=alt.Scale(zero=False))\n",
        ").properties(\n",
        "    title=\"Em abril o index de vendas atingiu o ponto mais baixo em 10 anos\"\n",
        ").configure_axis(\n",
        "    grid=False\n",
        ")"
      ],
      "execution_count": 3,
      "outputs": [
        {
          "output_type": "execute_result",
          "data": {
            "text/plain": [
              "alt.Chart(...)"
            ],
            "text/html": [
              "\n",
              "<div id=\"altair-viz-d1aa012418f2434587d3b5aab472b0a6\"></div>\n",
              "<script type=\"text/javascript\">\n",
              "  (function(spec, embedOpt){\n",
              "    let outputDiv = document.currentScript.previousElementSibling;\n",
              "    if (outputDiv.id !== \"altair-viz-d1aa012418f2434587d3b5aab472b0a6\") {\n",
              "      outputDiv = document.getElementById(\"altair-viz-d1aa012418f2434587d3b5aab472b0a6\");\n",
              "    }\n",
              "    const paths = {\n",
              "      \"vega\": \"https://cdn.jsdelivr.net/npm//vega@5?noext\",\n",
              "      \"vega-lib\": \"https://cdn.jsdelivr.net/npm//vega-lib?noext\",\n",
              "      \"vega-lite\": \"https://cdn.jsdelivr.net/npm//vega-lite@4.8.1?noext\",\n",
              "      \"vega-embed\": \"https://cdn.jsdelivr.net/npm//vega-embed@6?noext\",\n",
              "    };\n",
              "\n",
              "    function loadScript(lib) {\n",
              "      return new Promise(function(resolve, reject) {\n",
              "        var s = document.createElement('script');\n",
              "        s.src = paths[lib];\n",
              "        s.async = true;\n",
              "        s.onload = () => resolve(paths[lib]);\n",
              "        s.onerror = () => reject(`Error loading script: ${paths[lib]}`);\n",
              "        document.getElementsByTagName(\"head\")[0].appendChild(s);\n",
              "      });\n",
              "    }\n",
              "\n",
              "    function showError(err) {\n",
              "      outputDiv.innerHTML = `<div class=\"error\" style=\"color:red;\">${err}</div>`;\n",
              "      throw err;\n",
              "    }\n",
              "\n",
              "    function displayChart(vegaEmbed) {\n",
              "      vegaEmbed(outputDiv, spec, embedOpt)\n",
              "        .catch(err => showError(`Javascript Error: ${err.message}<br>This usually means there's a typo in your chart specification. See the javascript console for the full traceback.`));\n",
              "    }\n",
              "\n",
              "    if(typeof define === \"function\" && define.amd) {\n",
              "      requirejs.config({paths});\n",
              "      require([\"vega-embed\"], displayChart, err => showError(`Error loading script: ${err.message}`));\n",
              "    } else if (typeof vegaEmbed === \"function\") {\n",
              "      displayChart(vegaEmbed);\n",
              "    } else {\n",
              "      loadScript(\"vega\")\n",
              "        .then(() => loadScript(\"vega-lite\"))\n",
              "        .then(() => loadScript(\"vega-embed\"))\n",
              "        .catch(showError)\n",
              "        .then(() => displayChart(vegaEmbed));\n",
              "    }\n",
              "  })({\"config\": {\"view\": {\"continuousWidth\": 400, \"continuousHeight\": 300}, \"axis\": {\"grid\": false}}, \"data\": {\"name\": \"data-4535e7ffb32fb5a569488c791cf91577\"}, \"mark\": \"line\", \"encoding\": {\"x\": {\"type\": \"temporal\", \"field\": \"Data\", \"title\": \"\"}, \"y\": {\"type\": \"quantitative\", \"field\": \"Vendas reais (varejo)\", \"scale\": {\"zero\": false}, \"title\": \"Index de vendas de varejo\"}}, \"title\": \"Em abril o index de vendas atingiu o ponto mais baixo em 10 anos\", \"$schema\": \"https://vega.github.io/schema/vega-lite/v4.8.1.json\", \"datasets\": {\"data-4535e7ffb32fb5a569488c791cf91577\": [{\"Data\": \"2009-01-01T00:00:00\", \"Vendas reais (varejo)\": 69.9}, {\"Data\": \"2009-02-01T00:00:00\", \"Vendas reais (varejo)\": 71.1}, {\"Data\": \"2009-03-01T00:00:00\", \"Vendas reais (varejo)\": 70.8}, {\"Data\": \"2009-04-01T00:00:00\", \"Vendas reais (varejo)\": 71.4}, {\"Data\": \"2009-05-01T00:00:00\", \"Vendas reais (varejo)\": 71.8}, {\"Data\": \"2009-06-01T00:00:00\", \"Vendas reais (varejo)\": 72.7}, {\"Data\": \"2009-07-01T00:00:00\", \"Vendas reais (varejo)\": 73.2}, {\"Data\": \"2009-08-01T00:00:00\", \"Vendas reais (varejo)\": 73.6}, {\"Data\": \"2009-09-01T00:00:00\", \"Vendas reais (varejo)\": 74.3}, {\"Data\": \"2009-01-01T00:00:00\", \"Vendas reais (varejo)\": 75.7}, {\"Data\": \"2009-11-01T00:00:00\", \"Vendas reais (varejo)\": 76.4}, {\"Data\": \"2009-12-01T00:00:00\", \"Vendas reais (varejo)\": 76.2}, {\"Data\": \"2010-01-01T00:00:00\", \"Vendas reais (varejo)\": 77.6}, {\"Data\": \"2010-02-01T00:00:00\", \"Vendas reais (varejo)\": 79.6}, {\"Data\": \"2010-03-01T00:00:00\", \"Vendas reais (varejo)\": 79.4}, {\"Data\": \"2010-04-01T00:00:00\", \"Vendas reais (varejo)\": 79.3}, {\"Data\": \"2010-05-01T00:00:00\", \"Vendas reais (varejo)\": 79.9}, {\"Data\": \"2010-06-01T00:00:00\", \"Vendas reais (varejo)\": 80.8}, {\"Data\": \"2010-07-01T00:00:00\", \"Vendas reais (varejo)\": 80.6}, {\"Data\": \"2010-08-01T00:00:00\", \"Vendas reais (varejo)\": 82.4}, {\"Data\": \"2010-09-01T00:00:00\", \"Vendas reais (varejo)\": 82.9}, {\"Data\": \"2010-01-01T00:00:00\", \"Vendas reais (varejo)\": 83.2}, {\"Data\": \"2010-11-01T00:00:00\", \"Vendas reais (varejo)\": 83.4}, {\"Data\": \"2010-12-01T00:00:00\", \"Vendas reais (varejo)\": 83.9}, {\"Data\": \"2011-01-01T00:00:00\", \"Vendas reais (varejo)\": 84.1}, {\"Data\": \"2011-02-01T00:00:00\", \"Vendas reais (varejo)\": 84.4}, {\"Data\": \"2011-03-01T00:00:00\", \"Vendas reais (varejo)\": 85.3}, {\"Data\": \"2011-04-01T00:00:00\", \"Vendas reais (varejo)\": 85.4}, {\"Data\": \"2011-05-01T00:00:00\", \"Vendas reais (varejo)\": 86.4}, {\"Data\": \"2011-06-01T00:00:00\", \"Vendas reais (varejo)\": 86.4}, {\"Data\": \"2011-07-01T00:00:00\", \"Vendas reais (varejo)\": 86.9}, {\"Data\": \"2011-08-01T00:00:00\", \"Vendas reais (varejo)\": 86.8}, {\"Data\": \"2011-09-01T00:00:00\", \"Vendas reais (varejo)\": 87.1}, {\"Data\": \"2011-01-01T00:00:00\", \"Vendas reais (varejo)\": 87.2}, {\"Data\": \"2011-11-01T00:00:00\", \"Vendas reais (varejo)\": 88.3}, {\"Data\": \"2011-12-01T00:00:00\", \"Vendas reais (varejo)\": 89.0}, {\"Data\": \"2012-01-01T00:00:00\", \"Vendas reais (varejo)\": 91.2}, {\"Data\": \"2012-02-01T00:00:00\", \"Vendas reais (varejo)\": 91.8}, {\"Data\": \"2012-03-01T00:00:00\", \"Vendas reais (varejo)\": 92.3}, {\"Data\": \"2012-04-01T00:00:00\", \"Vendas reais (varejo)\": 93.0}, {\"Data\": \"2012-05-01T00:00:00\", \"Vendas reais (varejo)\": 92.6}, {\"Data\": \"2012-06-01T00:00:00\", \"Vendas reais (varejo)\": 93.9}, {\"Data\": \"2012-07-01T00:00:00\", \"Vendas reais (varejo)\": 94.6}, {\"Data\": \"2012-08-01T00:00:00\", \"Vendas reais (varejo)\": 94.7}, {\"Data\": \"2012-09-01T00:00:00\", \"Vendas reais (varejo)\": 94.9}, {\"Data\": \"2012-01-01T00:00:00\", \"Vendas reais (varejo)\": 95.1}, {\"Data\": \"2012-11-01T00:00:00\", \"Vendas reais (varejo)\": 94.7}, {\"Data\": \"2012-12-01T00:00:00\", \"Vendas reais (varejo)\": 95.2}, {\"Data\": \"2013-01-01T00:00:00\", \"Vendas reais (varejo)\": 95.0}, {\"Data\": \"2013-02-01T00:00:00\", \"Vendas reais (varejo)\": 94.8}, {\"Data\": \"2013-03-01T00:00:00\", \"Vendas reais (varejo)\": 95.5}, {\"Data\": \"2013-04-01T00:00:00\", \"Vendas reais (varejo)\": 96.2}, {\"Data\": \"2013-05-01T00:00:00\", \"Vendas reais (varejo)\": 96.5}, {\"Data\": \"2013-06-01T00:00:00\", \"Vendas reais (varejo)\": 97.0}, {\"Data\": \"2013-07-01T00:00:00\", \"Vendas reais (varejo)\": 99.4}, {\"Data\": \"2013-08-01T00:00:00\", \"Vendas reais (varejo)\": 99.9}, {\"Data\": \"2013-09-01T00:00:00\", \"Vendas reais (varejo)\": 100.1}, {\"Data\": \"2013-01-01T00:00:00\", \"Vendas reais (varejo)\": 99.7}, {\"Data\": \"2013-11-01T00:00:00\", \"Vendas reais (varejo)\": 99.4}, {\"Data\": \"2013-12-01T00:00:00\", \"Vendas reais (varejo)\": 100.3}, {\"Data\": \"2014-01-01T00:00:00\", \"Vendas reais (varejo)\": 100.2}, {\"Data\": \"2014-02-01T00:00:00\", \"Vendas reais (varejo)\": 100.3}, {\"Data\": \"2014-03-01T00:00:00\", \"Vendas reais (varejo)\": 100.0}, {\"Data\": \"2014-04-01T00:00:00\", \"Vendas reais (varejo)\": 99.8}, {\"Data\": \"2014-05-01T00:00:00\", \"Vendas reais (varejo)\": 100.3}, {\"Data\": \"2014-06-01T00:00:00\", \"Vendas reais (varejo)\": 99.3}, {\"Data\": \"2014-07-01T00:00:00\", \"Vendas reais (varejo)\": 98.6}, {\"Data\": \"2014-08-01T00:00:00\", \"Vendas reais (varejo)\": 100.2}, {\"Data\": \"2014-09-01T00:00:00\", \"Vendas reais (varejo)\": 100.2}, {\"Data\": \"2014-01-01T00:00:00\", \"Vendas reais (varejo)\": 101.0}, {\"Data\": \"2014-11-01T00:00:00\", \"Vendas reais (varejo)\": 100.9}, {\"Data\": \"2014-12-01T00:00:00\", \"Vendas reais (varejo)\": 99.8}, {\"Data\": \"2015-01-01T00:00:00\", \"Vendas reais (varejo)\": 100.0}, {\"Data\": \"2015-02-01T00:00:00\", \"Vendas reais (varejo)\": 99.0}, {\"Data\": \"2015-03-01T00:00:00\", \"Vendas reais (varejo)\": 98.4}, {\"Data\": \"2015-04-01T00:00:00\", \"Vendas reais (varejo)\": 97.3}, {\"Data\": \"2015-05-01T00:00:00\", \"Vendas reais (varejo)\": 96.9}, {\"Data\": \"2015-06-01T00:00:00\", \"Vendas reais (varejo)\": 95.9}, {\"Data\": \"2015-07-01T00:00:00\", \"Vendas reais (varejo)\": 94.4}, {\"Data\": \"2015-08-01T00:00:00\", \"Vendas reais (varejo)\": 93.9}, {\"Data\": \"2015-09-01T00:00:00\", \"Vendas reais (varejo)\": 93.7}, {\"Data\": \"2015-01-01T00:00:00\", \"Vendas reais (varejo)\": 94.5}, {\"Data\": \"2015-11-01T00:00:00\", \"Vendas reais (varejo)\": 93.0}, {\"Data\": \"2015-12-01T00:00:00\", \"Vendas reais (varejo)\": 92.7}, {\"Data\": \"2016-01-01T00:00:00\", \"Vendas reais (varejo)\": 90.4}, {\"Data\": \"2016-02-01T00:00:00\", \"Vendas reais (varejo)\": 91.6}, {\"Data\": \"2016-03-01T00:00:00\", \"Vendas reais (varejo)\": 90.6}, {\"Data\": \"2016-04-01T00:00:00\", \"Vendas reais (varejo)\": 90.9}, {\"Data\": \"2016-05-01T00:00:00\", \"Vendas reais (varejo)\": 90.1}, {\"Data\": \"2016-06-01T00:00:00\", \"Vendas reais (varejo)\": 90.2}, {\"Data\": \"2016-07-01T00:00:00\", \"Vendas reais (varejo)\": 89.4}, {\"Data\": \"2016-08-01T00:00:00\", \"Vendas reais (varejo)\": 89.0}, {\"Data\": \"2016-09-01T00:00:00\", \"Vendas reais (varejo)\": 87.9}, {\"Data\": \"2016-01-01T00:00:00\", \"Vendas reais (varejo)\": 88.3}, {\"Data\": \"2016-11-01T00:00:00\", \"Vendas reais (varejo)\": 87.8}, {\"Data\": \"2016-12-01T00:00:00\", \"Vendas reais (varejo)\": 87.3}, {\"Data\": \"2017-01-01T00:00:00\", \"Vendas reais (varejo)\": 90.8}, {\"Data\": \"2017-02-01T00:00:00\", \"Vendas reais (varejo)\": 91.2}, {\"Data\": \"2017-03-01T00:00:00\", \"Vendas reais (varejo)\": 89.3}, {\"Data\": \"2017-04-01T00:00:00\", \"Vendas reais (varejo)\": 91.3}, {\"Data\": \"2017-05-01T00:00:00\", \"Vendas reais (varejo)\": 91.5}, {\"Data\": \"2017-06-01T00:00:00\", \"Vendas reais (varejo)\": 92.9}, {\"Data\": \"2017-07-01T00:00:00\", \"Vendas reais (varejo)\": 92.7}, {\"Data\": \"2017-08-01T00:00:00\", \"Vendas reais (varejo)\": 92.1}, {\"Data\": \"2017-09-01T00:00:00\", \"Vendas reais (varejo)\": 92.3}, {\"Data\": \"2017-01-01T00:00:00\", \"Vendas reais (varejo)\": 92.0}, {\"Data\": \"2017-11-01T00:00:00\", \"Vendas reais (varejo)\": 91.9}, {\"Data\": \"2017-12-01T00:00:00\", \"Vendas reais (varejo)\": 91.8}, {\"Data\": \"2018-01-01T00:00:00\", \"Vendas reais (varejo)\": 92.6}, {\"Data\": \"2018-02-01T00:00:00\", \"Vendas reais (varejo)\": 92.4}, {\"Data\": \"2018-03-01T00:00:00\", \"Vendas reais (varejo)\": 93.3}, {\"Data\": \"2018-04-01T00:00:00\", \"Vendas reais (varejo)\": 95.5}, {\"Data\": \"2018-05-01T00:00:00\", \"Vendas reais (varejo)\": 94.1}, {\"Data\": \"2018-06-01T00:00:00\", \"Vendas reais (varejo)\": 93.9}, {\"Data\": \"2018-07-01T00:00:00\", \"Vendas reais (varejo)\": 93.1}, {\"Data\": \"2018-08-01T00:00:00\", \"Vendas reais (varejo)\": 95.4}, {\"Data\": \"2018-09-01T00:00:00\", \"Vendas reais (varejo)\": 93.5}, {\"Data\": \"2018-01-01T00:00:00\", \"Vendas reais (varejo)\": 92.9}, {\"Data\": \"2018-11-01T00:00:00\", \"Vendas reais (varejo)\": 95.2}, {\"Data\": \"2018-12-01T00:00:00\", \"Vendas reais (varejo)\": 92.9}, {\"Data\": \"2019-01-01T00:00:00\", \"Vendas reais (varejo)\": 94.0}, {\"Data\": \"2019-02-01T00:00:00\", \"Vendas reais (varejo)\": 93.6}, {\"Data\": \"2019-03-01T00:00:00\", \"Vendas reais (varejo)\": 94.4}, {\"Data\": \"2019-04-01T00:00:00\", \"Vendas reais (varejo)\": 94.4}, {\"Data\": \"2019-05-01T00:00:00\", \"Vendas reais (varejo)\": 94.9}, {\"Data\": \"2019-06-01T00:00:00\", \"Vendas reais (varejo)\": 95.5}, {\"Data\": \"2019-07-01T00:00:00\", \"Vendas reais (varejo)\": 96.2}, {\"Data\": \"2019-08-01T00:00:00\", \"Vendas reais (varejo)\": 96.0}, {\"Data\": \"2019-09-01T00:00:00\", \"Vendas reais (varejo)\": 96.5}, {\"Data\": \"2019-01-01T00:00:00\", \"Vendas reais (varejo)\": 96.6}, {\"Data\": \"2019-11-01T00:00:00\", \"Vendas reais (varejo)\": 96.7}, {\"Data\": \"2019-12-01T00:00:00\", \"Vendas reais (varejo)\": 96.4}, {\"Data\": \"2020-01-01T00:00:00\", \"Vendas reais (varejo)\": 94.9}, {\"Data\": \"2020-02-01T00:00:00\", \"Vendas reais (varejo)\": 95.6}, {\"Data\": \"2020-03-01T00:00:00\", \"Vendas reais (varejo)\": 92.9}, {\"Data\": \"2020-04-01T00:00:00\", \"Vendas reais (varejo)\": 77.8}, {\"Data\": \"2020-05-01T00:00:00\", \"Vendas reais (varejo)\": 88.6}]}}, {\"theme\": \"googlecharts\", \"mode\": \"vega-lite\"});\n",
              "</script>"
            ]
          },
          "metadata": {
            "tags": []
          },
          "execution_count": 3
        }
      ]
    },
    {
      "cell_type": "markdown",
      "metadata": {
        "id": "IS0UJtietFAd",
        "colab_type": "text"
      },
      "source": [
        "Os dados do Ipea confirmam a necessidade de soluções na área de varejo."
      ]
    },
    {
      "cell_type": "markdown",
      "metadata": {
        "id": "vIfoVeaEoe0F",
        "colab_type": "text"
      },
      "source": [
        "## Análise do setor pelo Google Trends\n",
        "\n",
        "A falta de informações sobre os novos hábitos e perfil dos clientes pesa negativamente na tomada de decisão e da criação de novas alternativas para atingir o consumidor. Pensando nisso decidimos focar nossa solução nesses hábitos.\n",
        "\n",
        "Utilizando o pytrends podemos acessar em código o google trends para obter dados de pesquisa de usuários, ganhando uma noção de interesse através dos termos mais pesquisados. \n",
        "\n",
        "Para ilustração dessa diferença de tendências de consumo pré pandemia fizemos uma pesquisa com termos do setor livreiro e de alimentação."
      ]
    },
    {
      "cell_type": "code",
      "metadata": {
        "id": "7BP0eHaxrq_Z",
        "colab_type": "code",
        "colab": {}
      },
      "source": [
        "from pytrends.request import TrendReq\n",
        "\n",
        "pytrend = TrendReq(hl='BR', tz=180)"
      ],
      "execution_count": 4,
      "outputs": []
    },
    {
      "cell_type": "code",
      "metadata": {
        "id": "jxr-tq04cdFl",
        "colab_type": "code",
        "colab": {
          "base_uri": "https://localhost:8080/",
          "height": 386
        },
        "outputId": "80454304-d283-47e7-bffc-ab0631bcd4f9"
      },
      "source": [
        "palavras_chave = ['restaurante', 'ifood',\n",
        "                  'livraria', 'kindle']\n",
        "\n",
        "pytrend.build_payload(\n",
        "     kw_list=palavras_chave,\n",
        "     cat=0,\n",
        "     timeframe='2019-01-01 2020-06-01',\n",
        "     geo='BR',\n",
        "     gprop='')\n",
        "\n",
        "pytrend_data = pytrend.interest_over_time().drop(['isPartial'], axis=1)\n",
        "\n",
        "alt.Chart(pytrend_data.reset_index()\n",
        "          ).transform_fold(\n",
        "    palavras_chave,\n",
        "    ).mark_line().encode(\n",
        "    x=alt.X('date:T',\n",
        "            axis = alt.Axis(format=('%m/%y'),\n",
        "            title = '')),\n",
        "    y=alt.Y('value:Q', \n",
        "            title='Index de buscas no Google'),\n",
        "    color=alt.Color('key:N', title='Termo',\n",
        "                    sort=['restaurante', 'ifood', 'livraria', 'kindle'])\n",
        ").properties(\n",
        "    title='Em alguns setores houve inversão de algumas tendências durante a pandemia' \n",
        ").configure_axis(\n",
        "    grid=False\n",
        ")"
      ],
      "execution_count": 5,
      "outputs": [
        {
          "output_type": "execute_result",
          "data": {
            "text/plain": [
              "alt.Chart(...)"
            ],
            "text/html": [
              "\n",
              "<div id=\"altair-viz-09b01eda9bf84eb5ba5c8d553c43ba74\"></div>\n",
              "<script type=\"text/javascript\">\n",
              "  (function(spec, embedOpt){\n",
              "    let outputDiv = document.currentScript.previousElementSibling;\n",
              "    if (outputDiv.id !== \"altair-viz-09b01eda9bf84eb5ba5c8d553c43ba74\") {\n",
              "      outputDiv = document.getElementById(\"altair-viz-09b01eda9bf84eb5ba5c8d553c43ba74\");\n",
              "    }\n",
              "    const paths = {\n",
              "      \"vega\": \"https://cdn.jsdelivr.net/npm//vega@5?noext\",\n",
              "      \"vega-lib\": \"https://cdn.jsdelivr.net/npm//vega-lib?noext\",\n",
              "      \"vega-lite\": \"https://cdn.jsdelivr.net/npm//vega-lite@4.8.1?noext\",\n",
              "      \"vega-embed\": \"https://cdn.jsdelivr.net/npm//vega-embed@6?noext\",\n",
              "    };\n",
              "\n",
              "    function loadScript(lib) {\n",
              "      return new Promise(function(resolve, reject) {\n",
              "        var s = document.createElement('script');\n",
              "        s.src = paths[lib];\n",
              "        s.async = true;\n",
              "        s.onload = () => resolve(paths[lib]);\n",
              "        s.onerror = () => reject(`Error loading script: ${paths[lib]}`);\n",
              "        document.getElementsByTagName(\"head\")[0].appendChild(s);\n",
              "      });\n",
              "    }\n",
              "\n",
              "    function showError(err) {\n",
              "      outputDiv.innerHTML = `<div class=\"error\" style=\"color:red;\">${err}</div>`;\n",
              "      throw err;\n",
              "    }\n",
              "\n",
              "    function displayChart(vegaEmbed) {\n",
              "      vegaEmbed(outputDiv, spec, embedOpt)\n",
              "        .catch(err => showError(`Javascript Error: ${err.message}<br>This usually means there's a typo in your chart specification. See the javascript console for the full traceback.`));\n",
              "    }\n",
              "\n",
              "    if(typeof define === \"function\" && define.amd) {\n",
              "      requirejs.config({paths});\n",
              "      require([\"vega-embed\"], displayChart, err => showError(`Error loading script: ${err.message}`));\n",
              "    } else if (typeof vegaEmbed === \"function\") {\n",
              "      displayChart(vegaEmbed);\n",
              "    } else {\n",
              "      loadScript(\"vega\")\n",
              "        .then(() => loadScript(\"vega-lite\"))\n",
              "        .then(() => loadScript(\"vega-embed\"))\n",
              "        .catch(showError)\n",
              "        .then(() => displayChart(vegaEmbed));\n",
              "    }\n",
              "  })({\"config\": {\"view\": {\"continuousWidth\": 400, \"continuousHeight\": 300}, \"axis\": {\"grid\": false}}, \"data\": {\"name\": \"data-4cda1c090d9175e83b327bde464982d0\"}, \"mark\": \"line\", \"encoding\": {\"color\": {\"type\": \"nominal\", \"field\": \"key\", \"sort\": [\"restaurante\", \"ifood\", \"livraria\", \"kindle\"], \"title\": \"Termo\"}, \"x\": {\"type\": \"temporal\", \"axis\": {\"format\": \"%m/%y\", \"title\": \"\"}, \"field\": \"date\"}, \"y\": {\"type\": \"quantitative\", \"field\": \"value\", \"title\": \"Index de buscas no Google\"}}, \"title\": \"Em alguns setores houve invers\\u00e3o de algumas tend\\u00eancias durante a pandemia\", \"transform\": [{\"fold\": [\"restaurante\", \"ifood\", \"livraria\", \"kindle\"]}], \"$schema\": \"https://vega.github.io/schema/vega-lite/v4.8.1.json\", \"datasets\": {\"data-4cda1c090d9175e83b327bde464982d0\": [{\"date\": \"2019-01-06T00:00:00\", \"restaurante\": 72, \"ifood\": 15, \"livraria\": 16, \"kindle\": 4}, {\"date\": \"2019-01-13T00:00:00\", \"restaurante\": 70, \"ifood\": 16, \"livraria\": 14, \"kindle\": 3}, {\"date\": \"2019-01-20T00:00:00\", \"restaurante\": 68, \"ifood\": 16, \"livraria\": 14, \"kindle\": 3}, {\"date\": \"2019-01-27T00:00:00\", \"restaurante\": 66, \"ifood\": 16, \"livraria\": 14, \"kindle\": 3}, {\"date\": \"2019-02-03T00:00:00\", \"restaurante\": 66, \"ifood\": 18, \"livraria\": 15, \"kindle\": 4}, {\"date\": \"2019-02-10T00:00:00\", \"restaurante\": 65, \"ifood\": 17, \"livraria\": 14, \"kindle\": 4}, {\"date\": \"2019-02-17T00:00:00\", \"restaurante\": 64, \"ifood\": 17, \"livraria\": 12, \"kindle\": 4}, {\"date\": \"2019-02-24T00:00:00\", \"restaurante\": 63, \"ifood\": 18, \"livraria\": 11, \"kindle\": 4}, {\"date\": \"2019-03-03T00:00:00\", \"restaurante\": 84, \"ifood\": 21, \"livraria\": 11, \"kindle\": 4}, {\"date\": \"2019-03-10T00:00:00\", \"restaurante\": 64, \"ifood\": 18, \"livraria\": 12, \"kindle\": 4}, {\"date\": \"2019-03-17T00:00:00\", \"restaurante\": 66, \"ifood\": 17, \"livraria\": 12, \"kindle\": 4}, {\"date\": \"2019-03-24T00:00:00\", \"restaurante\": 67, \"ifood\": 18, \"livraria\": 11, \"kindle\": 4}, {\"date\": \"2019-03-31T00:00:00\", \"restaurante\": 70, \"ifood\": 16, \"livraria\": 11, \"kindle\": 4}, {\"date\": \"2019-04-07T00:00:00\", \"restaurante\": 68, \"ifood\": 16, \"livraria\": 10, \"kindle\": 3}, {\"date\": \"2019-04-14T00:00:00\", \"restaurante\": 79, \"ifood\": 17, \"livraria\": 9, \"kindle\": 4}, {\"date\": \"2019-04-21T00:00:00\", \"restaurante\": 65, \"ifood\": 16, \"livraria\": 11, \"kindle\": 4}, {\"date\": \"2019-04-28T00:00:00\", \"restaurante\": 77, \"ifood\": 17, \"livraria\": 9, \"kindle\": 3}, {\"date\": \"2019-05-05T00:00:00\", \"restaurante\": 75, \"ifood\": 16, \"livraria\": 10, \"kindle\": 4}, {\"date\": \"2019-05-12T00:00:00\", \"restaurante\": 71, \"ifood\": 17, \"livraria\": 9, \"kindle\": 4}, {\"date\": \"2019-05-19T00:00:00\", \"restaurante\": 66, \"ifood\": 17, \"livraria\": 9, \"kindle\": 3}, {\"date\": \"2019-05-26T00:00:00\", \"restaurante\": 67, \"ifood\": 18, \"livraria\": 9, \"kindle\": 3}, {\"date\": \"2019-06-02T00:00:00\", \"restaurante\": 68, \"ifood\": 18, \"livraria\": 9, \"kindle\": 3}, {\"date\": \"2019-06-09T00:00:00\", \"restaurante\": 82, \"ifood\": 19, \"livraria\": 8, \"kindle\": 4}, {\"date\": \"2019-06-16T00:00:00\", \"restaurante\": 76, \"ifood\": 20, \"livraria\": 8, \"kindle\": 3}, {\"date\": \"2019-06-23T00:00:00\", \"restaurante\": 69, \"ifood\": 18, \"livraria\": 8, \"kindle\": 3}, {\"date\": \"2019-06-30T00:00:00\", \"restaurante\": 71, \"ifood\": 20, \"livraria\": 9, \"kindle\": 3}, {\"date\": \"2019-07-07T00:00:00\", \"restaurante\": 76, \"ifood\": 19, \"livraria\": 9, \"kindle\": 3}, {\"date\": \"2019-07-14T00:00:00\", \"restaurante\": 74, \"ifood\": 19, \"livraria\": 9, \"kindle\": 4}, {\"date\": \"2019-07-21T00:00:00\", \"restaurante\": 74, \"ifood\": 19, \"livraria\": 9, \"kindle\": 4}, {\"date\": \"2019-07-28T00:00:00\", \"restaurante\": 72, \"ifood\": 18, \"livraria\": 10, \"kindle\": 4}, {\"date\": \"2019-08-04T00:00:00\", \"restaurante\": 72, \"ifood\": 17, \"livraria\": 11, \"kindle\": 4}, {\"date\": \"2019-08-11T00:00:00\", \"restaurante\": 70, \"ifood\": 17, \"livraria\": 11, \"kindle\": 4}, {\"date\": \"2019-08-18T00:00:00\", \"restaurante\": 66, \"ifood\": 19, \"livraria\": 10, \"kindle\": 4}, {\"date\": \"2019-08-25T00:00:00\", \"restaurante\": 69, \"ifood\": 18, \"livraria\": 10, \"kindle\": 4}, {\"date\": \"2019-09-01T00:00:00\", \"restaurante\": 72, \"ifood\": 19, \"livraria\": 9, \"kindle\": 4}, {\"date\": \"2019-09-08T00:00:00\", \"restaurante\": 71, \"ifood\": 19, \"livraria\": 9, \"kindle\": 4}, {\"date\": \"2019-09-15T00:00:00\", \"restaurante\": 69, \"ifood\": 19, \"livraria\": 9, \"kindle\": 4}, {\"date\": \"2019-09-22T00:00:00\", \"restaurante\": 70, \"ifood\": 20, \"livraria\": 9, \"kindle\": 4}, {\"date\": \"2019-09-29T00:00:00\", \"restaurante\": 71, \"ifood\": 18, \"livraria\": 9, \"kindle\": 3}, {\"date\": \"2019-10-06T00:00:00\", \"restaurante\": 72, \"ifood\": 18, \"livraria\": 9, \"kindle\": 3}, {\"date\": \"2019-10-13T00:00:00\", \"restaurante\": 72, \"ifood\": 18, \"livraria\": 8, \"kindle\": 3}, {\"date\": \"2019-10-20T00:00:00\", \"restaurante\": 72, \"ifood\": 23, \"livraria\": 8, \"kindle\": 3}, {\"date\": \"2019-10-27T00:00:00\", \"restaurante\": 72, \"ifood\": 21, \"livraria\": 11, \"kindle\": 3}, {\"date\": \"2019-11-03T00:00:00\", \"restaurante\": 73, \"ifood\": 20, \"livraria\": 12, \"kindle\": 3}, {\"date\": \"2019-11-10T00:00:00\", \"restaurante\": 80, \"ifood\": 23, \"livraria\": 9, \"kindle\": 3}, {\"date\": \"2019-11-17T00:00:00\", \"restaurante\": 74, \"ifood\": 22, \"livraria\": 9, \"kindle\": 4}, {\"date\": \"2019-11-24T00:00:00\", \"restaurante\": 67, \"ifood\": 29, \"livraria\": 11, \"kindle\": 7}, {\"date\": \"2019-12-01T00:00:00\", \"restaurante\": 74, \"ifood\": 19, \"livraria\": 10, \"kindle\": 5}, {\"date\": \"2019-12-08T00:00:00\", \"restaurante\": 76, \"ifood\": 20, \"livraria\": 11, \"kindle\": 4}, {\"date\": \"2019-12-15T00:00:00\", \"restaurante\": 78, \"ifood\": 20, \"livraria\": 12, \"kindle\": 4}, {\"date\": \"2019-12-22T00:00:00\", \"restaurante\": 97, \"ifood\": 19, \"livraria\": 11, \"kindle\": 5}, {\"date\": \"2019-12-29T00:00:00\", \"restaurante\": 100, \"ifood\": 18, \"livraria\": 11, \"kindle\": 5}, {\"date\": \"2020-01-05T00:00:00\", \"restaurante\": 79, \"ifood\": 19, \"livraria\": 13, \"kindle\": 5}, {\"date\": \"2020-01-12T00:00:00\", \"restaurante\": 78, \"ifood\": 20, \"livraria\": 13, \"kindle\": 4}, {\"date\": \"2020-01-19T00:00:00\", \"restaurante\": 75, \"ifood\": 22, \"livraria\": 13, \"kindle\": 4}, {\"date\": \"2020-01-26T00:00:00\", \"restaurante\": 71, \"ifood\": 21, \"livraria\": 13, \"kindle\": 4}, {\"date\": \"2020-02-02T00:00:00\", \"restaurante\": 69, \"ifood\": 21, \"livraria\": 12, \"kindle\": 4}, {\"date\": \"2020-02-09T00:00:00\", \"restaurante\": 67, \"ifood\": 20, \"livraria\": 11, \"kindle\": 4}, {\"date\": \"2020-02-16T00:00:00\", \"restaurante\": 65, \"ifood\": 19, \"livraria\": 10, \"kindle\": 4}, {\"date\": \"2020-02-23T00:00:00\", \"restaurante\": 81, \"ifood\": 21, \"livraria\": 9, \"kindle\": 4}, {\"date\": \"2020-03-01T00:00:00\", \"restaurante\": 67, \"ifood\": 20, \"livraria\": 11, \"kindle\": 4}, {\"date\": \"2020-03-08T00:00:00\", \"restaurante\": 66, \"ifood\": 20, \"livraria\": 10, \"kindle\": 4}, {\"date\": \"2020-03-15T00:00:00\", \"restaurante\": 44, \"ifood\": 26, \"livraria\": 6, \"kindle\": 5}, {\"date\": \"2020-03-22T00:00:00\", \"restaurante\": 37, \"ifood\": 33, \"livraria\": 4, \"kindle\": 6}, {\"date\": \"2020-03-29T00:00:00\", \"restaurante\": 38, \"ifood\": 30, \"livraria\": 5, \"kindle\": 6}, {\"date\": \"2020-04-05T00:00:00\", \"restaurante\": 38, \"ifood\": 28, \"livraria\": 6, \"kindle\": 6}, {\"date\": \"2020-04-12T00:00:00\", \"restaurante\": 35, \"ifood\": 26, \"livraria\": 7, \"kindle\": 6}, {\"date\": \"2020-04-19T00:00:00\", \"restaurante\": 37, \"ifood\": 26, \"livraria\": 7, \"kindle\": 7}, {\"date\": \"2020-04-26T00:00:00\", \"restaurante\": 41, \"ifood\": 25, \"livraria\": 7, \"kindle\": 7}, {\"date\": \"2020-05-03T00:00:00\", \"restaurante\": 41, \"ifood\": 24, \"livraria\": 8, \"kindle\": 6}, {\"date\": \"2020-05-10T00:00:00\", \"restaurante\": 42, \"ifood\": 24, \"livraria\": 8, \"kindle\": 7}, {\"date\": \"2020-05-17T00:00:00\", \"restaurante\": 39, \"ifood\": 23, \"livraria\": 8, \"kindle\": 8}, {\"date\": \"2020-05-24T00:00:00\", \"restaurante\": 42, \"ifood\": 25, \"livraria\": 8, \"kindle\": 8}, {\"date\": \"2020-05-31T00:00:00\", \"restaurante\": 44, \"ifood\": 23, \"livraria\": 9, \"kindle\": 7}]}}, {\"theme\": \"googlecharts\", \"mode\": \"vega-lite\"});\n",
              "</script>"
            ]
          },
          "metadata": {
            "tags": []
          },
          "execution_count": 5
        }
      ]
    },
    {
      "cell_type": "markdown",
      "metadata": {
        "id": "1lkqh88snT8g",
        "colab_type": "text"
      },
      "source": [
        "Pensando em trabalhar com o parceiro do hackathon, o Santander, olhamos para o setor bancário para entendê-lo e procurar oportunidades conjuntas."
      ]
    },
    {
      "cell_type": "code",
      "metadata": {
        "id": "5NLGDg_or5S1",
        "colab_type": "code",
        "colab": {
          "base_uri": "https://localhost:8080/",
          "height": 386
        },
        "outputId": "1ff493c6-b5ac-40fd-ff7b-a0c5698b753d"
      },
      "source": [
        "palavras_chave = ['financiamento',\n",
        "            'financiamento santander',\n",
        "            'santander', 'banco']\n",
        "\n",
        "pytrend.build_payload(\n",
        "     kw_list=palavras_chave,\n",
        "     cat=0,\n",
        "     timeframe='2019-01-01 2020-06-01',\n",
        "     geo='BR',\n",
        "     gprop='')\n",
        "\n",
        "pytrend_data = pytrend.interest_over_time().drop(['isPartial'], axis=1)\n",
        "\n",
        "alt.Chart(pytrend_data.reset_index(),\n",
        "          title = ''\n",
        "          ).transform_fold(\n",
        "    palavras_chave,\n",
        "    ).mark_line().encode(\n",
        "    x=alt.X('date:T',\n",
        "            title='',\n",
        "            axis = alt.Axis(format=('%m/%y'))),\n",
        "    y=alt.Y('value:Q', \n",
        "            title='Index de buscas no Google'),\n",
        "    color=alt.Color('key:N', title='Termo',\n",
        "                    sort=['banco', 'santander', 'financiamento'])\n",
        ").properties(\n",
        "    title='Serviços bancários estão em alta em 2020'\n",
        ").configure_axis(\n",
        "    grid=False\n",
        ")\n"
      ],
      "execution_count": 6,
      "outputs": [
        {
          "output_type": "execute_result",
          "data": {
            "text/plain": [
              "alt.Chart(...)"
            ],
            "text/html": [
              "\n",
              "<div id=\"altair-viz-c1ac06cdc3644a6aaa88bc1c597a1434\"></div>\n",
              "<script type=\"text/javascript\">\n",
              "  (function(spec, embedOpt){\n",
              "    let outputDiv = document.currentScript.previousElementSibling;\n",
              "    if (outputDiv.id !== \"altair-viz-c1ac06cdc3644a6aaa88bc1c597a1434\") {\n",
              "      outputDiv = document.getElementById(\"altair-viz-c1ac06cdc3644a6aaa88bc1c597a1434\");\n",
              "    }\n",
              "    const paths = {\n",
              "      \"vega\": \"https://cdn.jsdelivr.net/npm//vega@5?noext\",\n",
              "      \"vega-lib\": \"https://cdn.jsdelivr.net/npm//vega-lib?noext\",\n",
              "      \"vega-lite\": \"https://cdn.jsdelivr.net/npm//vega-lite@4.8.1?noext\",\n",
              "      \"vega-embed\": \"https://cdn.jsdelivr.net/npm//vega-embed@6?noext\",\n",
              "    };\n",
              "\n",
              "    function loadScript(lib) {\n",
              "      return new Promise(function(resolve, reject) {\n",
              "        var s = document.createElement('script');\n",
              "        s.src = paths[lib];\n",
              "        s.async = true;\n",
              "        s.onload = () => resolve(paths[lib]);\n",
              "        s.onerror = () => reject(`Error loading script: ${paths[lib]}`);\n",
              "        document.getElementsByTagName(\"head\")[0].appendChild(s);\n",
              "      });\n",
              "    }\n",
              "\n",
              "    function showError(err) {\n",
              "      outputDiv.innerHTML = `<div class=\"error\" style=\"color:red;\">${err}</div>`;\n",
              "      throw err;\n",
              "    }\n",
              "\n",
              "    function displayChart(vegaEmbed) {\n",
              "      vegaEmbed(outputDiv, spec, embedOpt)\n",
              "        .catch(err => showError(`Javascript Error: ${err.message}<br>This usually means there's a typo in your chart specification. See the javascript console for the full traceback.`));\n",
              "    }\n",
              "\n",
              "    if(typeof define === \"function\" && define.amd) {\n",
              "      requirejs.config({paths});\n",
              "      require([\"vega-embed\"], displayChart, err => showError(`Error loading script: ${err.message}`));\n",
              "    } else if (typeof vegaEmbed === \"function\") {\n",
              "      displayChart(vegaEmbed);\n",
              "    } else {\n",
              "      loadScript(\"vega\")\n",
              "        .then(() => loadScript(\"vega-lite\"))\n",
              "        .then(() => loadScript(\"vega-embed\"))\n",
              "        .catch(showError)\n",
              "        .then(() => displayChart(vegaEmbed));\n",
              "    }\n",
              "  })({\"config\": {\"view\": {\"continuousWidth\": 400, \"continuousHeight\": 300}, \"axis\": {\"grid\": false}}, \"data\": {\"name\": \"data-a549dd4aee21759ff3ba3930ca6c616e\"}, \"mark\": \"line\", \"encoding\": {\"color\": {\"type\": \"nominal\", \"field\": \"key\", \"sort\": [\"banco\", \"santander\", \"financiamento\"], \"title\": \"Termo\"}, \"x\": {\"type\": \"temporal\", \"axis\": {\"format\": \"%m/%y\"}, \"field\": \"date\", \"title\": \"\"}, \"y\": {\"type\": \"quantitative\", \"field\": \"value\", \"title\": \"Index de buscas no Google\"}}, \"title\": \"Servi\\u00e7os banc\\u00e1rios est\\u00e3o em alta em 2020\", \"transform\": [{\"fold\": [\"financiamento\", \"financiamento santander\", \"santander\", \"banco\"]}], \"$schema\": \"https://vega.github.io/schema/vega-lite/v4.8.1.json\", \"datasets\": {\"data-a549dd4aee21759ff3ba3930ca6c616e\": [{\"date\": \"2019-01-06T00:00:00\", \"financiamento\": 10, \"financiamento santander\": 1, \"santander\": 43, \"banco\": 78}, {\"date\": \"2019-01-13T00:00:00\", \"financiamento\": 10, \"financiamento santander\": 1, \"santander\": 38, \"banco\": 70}, {\"date\": \"2019-01-20T00:00:00\", \"financiamento\": 9, \"financiamento santander\": 1, \"santander\": 34, \"banco\": 64}, {\"date\": \"2019-01-27T00:00:00\", \"financiamento\": 9, \"financiamento santander\": 1, \"santander\": 37, \"banco\": 69}, {\"date\": \"2019-02-03T00:00:00\", \"financiamento\": 9, \"financiamento santander\": 1, \"santander\": 41, \"banco\": 73}, {\"date\": \"2019-02-10T00:00:00\", \"financiamento\": 9, \"financiamento santander\": 1, \"santander\": 37, \"banco\": 68}, {\"date\": \"2019-02-17T00:00:00\", \"financiamento\": 9, \"financiamento santander\": 1, \"santander\": 36, \"banco\": 68}, {\"date\": \"2019-02-24T00:00:00\", \"financiamento\": 8, \"financiamento santander\": 1, \"santander\": 38, \"banco\": 72}, {\"date\": \"2019-03-03T00:00:00\", \"financiamento\": 8, \"financiamento santander\": 1, \"santander\": 36, \"banco\": 71}, {\"date\": \"2019-03-10T00:00:00\", \"financiamento\": 9, \"financiamento santander\": 1, \"santander\": 38, \"banco\": 73}, {\"date\": \"2019-03-17T00:00:00\", \"financiamento\": 9, \"financiamento santander\": 1, \"santander\": 34, \"banco\": 67}, {\"date\": \"2019-03-24T00:00:00\", \"financiamento\": 9, \"financiamento santander\": 1, \"santander\": 35, \"banco\": 66}, {\"date\": \"2019-03-31T00:00:00\", \"financiamento\": 9, \"financiamento santander\": 1, \"santander\": 40, \"banco\": 74}, {\"date\": \"2019-04-07T00:00:00\", \"financiamento\": 8, \"financiamento santander\": 1, \"santander\": 39, \"banco\": 70}, {\"date\": \"2019-04-14T00:00:00\", \"financiamento\": 8, \"financiamento santander\": 1, \"santander\": 35, \"banco\": 64}, {\"date\": \"2019-04-21T00:00:00\", \"financiamento\": 9, \"financiamento santander\": 1, \"santander\": 36, \"banco\": 74}, {\"date\": \"2019-04-28T00:00:00\", \"financiamento\": 8, \"financiamento santander\": 1, \"santander\": 35, \"banco\": 69}, {\"date\": \"2019-05-05T00:00:00\", \"financiamento\": 8, \"financiamento santander\": 1, \"santander\": 38, \"banco\": 73}, {\"date\": \"2019-05-12T00:00:00\", \"financiamento\": 8, \"financiamento santander\": 1, \"santander\": 34, \"banco\": 66}, {\"date\": \"2019-05-19T00:00:00\", \"financiamento\": 8, \"financiamento santander\": 1, \"santander\": 32, \"banco\": 65}, {\"date\": \"2019-05-26T00:00:00\", \"financiamento\": 8, \"financiamento santander\": 1, \"santander\": 31, \"banco\": 62}, {\"date\": \"2019-06-02T00:00:00\", \"financiamento\": 8, \"financiamento santander\": 1, \"santander\": 35, \"banco\": 70}, {\"date\": \"2019-06-09T00:00:00\", \"financiamento\": 8, \"financiamento santander\": 1, \"santander\": 34, \"banco\": 67}, {\"date\": \"2019-06-16T00:00:00\", \"financiamento\": 8, \"financiamento santander\": 1, \"santander\": 31, \"banco\": 65}, {\"date\": \"2019-06-23T00:00:00\", \"financiamento\": 8, \"financiamento santander\": 1, \"santander\": 35, \"banco\": 67}, {\"date\": \"2019-06-30T00:00:00\", \"financiamento\": 8, \"financiamento santander\": 1, \"santander\": 38, \"banco\": 74}, {\"date\": \"2019-07-07T00:00:00\", \"financiamento\": 8, \"financiamento santander\": 1, \"santander\": 36, \"banco\": 73}, {\"date\": \"2019-07-14T00:00:00\", \"financiamento\": 9, \"financiamento santander\": 1, \"santander\": 35, \"banco\": 67}, {\"date\": \"2019-07-21T00:00:00\", \"financiamento\": 9, \"financiamento santander\": 1, \"santander\": 31, \"banco\": 67}, {\"date\": \"2019-07-28T00:00:00\", \"financiamento\": 9, \"financiamento santander\": 1, \"santander\": 34, \"banco\": 71}, {\"date\": \"2019-08-04T00:00:00\", \"financiamento\": 8, \"financiamento santander\": 1, \"santander\": 36, \"banco\": 74}, {\"date\": \"2019-08-11T00:00:00\", \"financiamento\": 9, \"financiamento santander\": 1, \"santander\": 35, \"banco\": 72}, {\"date\": \"2019-08-18T00:00:00\", \"financiamento\": 11, \"financiamento santander\": 1, \"santander\": 31, \"banco\": 71}, {\"date\": \"2019-08-25T00:00:00\", \"financiamento\": 9, \"financiamento santander\": 1, \"santander\": 33, \"banco\": 70}, {\"date\": \"2019-09-01T00:00:00\", \"financiamento\": 8, \"financiamento santander\": 1, \"santander\": 36, \"banco\": 75}, {\"date\": \"2019-09-08T00:00:00\", \"financiamento\": 9, \"financiamento santander\": 1, \"santander\": 35, \"banco\": 73}, {\"date\": \"2019-09-15T00:00:00\", \"financiamento\": 8, \"financiamento santander\": 1, \"santander\": 32, \"banco\": 68}, {\"date\": \"2019-09-22T00:00:00\", \"financiamento\": 8, \"financiamento santander\": 1, \"santander\": 30, \"banco\": 66}, {\"date\": \"2019-09-29T00:00:00\", \"financiamento\": 8, \"financiamento santander\": 1, \"santander\": 36, \"banco\": 72}, {\"date\": \"2019-10-06T00:00:00\", \"financiamento\": 9, \"financiamento santander\": 1, \"santander\": 34, \"banco\": 73}, {\"date\": \"2019-10-13T00:00:00\", \"financiamento\": 9, \"financiamento santander\": 1, \"santander\": 30, \"banco\": 67}, {\"date\": \"2019-10-20T00:00:00\", \"financiamento\": 8, \"financiamento santander\": 1, \"santander\": 28, \"banco\": 65}, {\"date\": \"2019-10-27T00:00:00\", \"financiamento\": 9, \"financiamento santander\": 1, \"santander\": 29, \"banco\": 66}, {\"date\": \"2019-11-03T00:00:00\", \"financiamento\": 8, \"financiamento santander\": 1, \"santander\": 34, \"banco\": 70}, {\"date\": \"2019-11-10T00:00:00\", \"financiamento\": 8, \"financiamento santander\": 1, \"santander\": 29, \"banco\": 64}, {\"date\": \"2019-11-17T00:00:00\", \"financiamento\": 9, \"financiamento santander\": 1, \"santander\": 30, \"banco\": 66}, {\"date\": \"2019-11-24T00:00:00\", \"financiamento\": 8, \"financiamento santander\": 1, \"santander\": 32, \"banco\": 66}, {\"date\": \"2019-12-01T00:00:00\", \"financiamento\": 8, \"financiamento santander\": 1, \"santander\": 35, \"banco\": 75}, {\"date\": \"2019-12-08T00:00:00\", \"financiamento\": 8, \"financiamento santander\": 1, \"santander\": 34, \"banco\": 71}, {\"date\": \"2019-12-15T00:00:00\", \"financiamento\": 8, \"financiamento santander\": 1, \"santander\": 32, \"banco\": 71}, {\"date\": \"2019-12-22T00:00:00\", \"financiamento\": 7, \"financiamento santander\": 1, \"santander\": 27, \"banco\": 67}, {\"date\": \"2019-12-29T00:00:00\", \"financiamento\": 8, \"financiamento santander\": 1, \"santander\": 28, \"banco\": 62}, {\"date\": \"2020-01-05T00:00:00\", \"financiamento\": 10, \"financiamento santander\": 1, \"santander\": 38, \"banco\": 79}, {\"date\": \"2020-01-12T00:00:00\", \"financiamento\": 10, \"financiamento santander\": 1, \"santander\": 32, \"banco\": 72}, {\"date\": \"2020-01-19T00:00:00\", \"financiamento\": 10, \"financiamento santander\": 1, \"santander\": 29, \"banco\": 67}, {\"date\": \"2020-01-26T00:00:00\", \"financiamento\": 10, \"financiamento santander\": 1, \"santander\": 30, \"banco\": 68}, {\"date\": \"2020-02-02T00:00:00\", \"financiamento\": 10, \"financiamento santander\": 1, \"santander\": 34, \"banco\": 77}, {\"date\": \"2020-02-09T00:00:00\", \"financiamento\": 9, \"financiamento santander\": 1, \"santander\": 32, \"banco\": 75}, {\"date\": \"2020-02-16T00:00:00\", \"financiamento\": 9, \"financiamento santander\": 1, \"santander\": 30, \"banco\": 74}, {\"date\": \"2020-02-23T00:00:00\", \"financiamento\": 9, \"financiamento santander\": 1, \"santander\": 27, \"banco\": 66}, {\"date\": \"2020-03-01T00:00:00\", \"financiamento\": 9, \"financiamento santander\": 1, \"santander\": 34, \"banco\": 76}, {\"date\": \"2020-03-08T00:00:00\", \"financiamento\": 9, \"financiamento santander\": 1, \"santander\": 33, \"banco\": 76}, {\"date\": \"2020-03-15T00:00:00\", \"financiamento\": 9, \"financiamento santander\": 1, \"santander\": 32, \"banco\": 75}, {\"date\": \"2020-03-22T00:00:00\", \"financiamento\": 17, \"financiamento santander\": 2, \"santander\": 34, \"banco\": 84}, {\"date\": \"2020-03-29T00:00:00\", \"financiamento\": 14, \"financiamento santander\": 2, \"santander\": 38, \"banco\": 91}, {\"date\": \"2020-04-05T00:00:00\", \"financiamento\": 13, \"financiamento santander\": 2, \"santander\": 36, \"banco\": 98}, {\"date\": \"2020-04-12T00:00:00\", \"financiamento\": 15, \"financiamento santander\": 4, \"santander\": 48, \"banco\": 100}, {\"date\": \"2020-04-19T00:00:00\", \"financiamento\": 12, \"financiamento santander\": 2, \"santander\": 31, \"banco\": 83}, {\"date\": \"2020-04-26T00:00:00\", \"financiamento\": 11, \"financiamento santander\": 2, \"santander\": 30, \"banco\": 80}, {\"date\": \"2020-05-03T00:00:00\", \"financiamento\": 11, \"financiamento santander\": 2, \"santander\": 36, \"banco\": 89}, {\"date\": \"2020-05-10T00:00:00\", \"financiamento\": 11, \"financiamento santander\": 2, \"santander\": 32, \"banco\": 78}, {\"date\": \"2020-05-17T00:00:00\", \"financiamento\": 11, \"financiamento santander\": 1, \"santander\": 28, \"banco\": 78}, {\"date\": \"2020-05-24T00:00:00\", \"financiamento\": 10, \"financiamento santander\": 1, \"santander\": 28, \"banco\": 78}, {\"date\": \"2020-05-31T00:00:00\", \"financiamento\": 10, \"financiamento santander\": 1, \"santander\": 32, \"banco\": 82}]}}, {\"theme\": \"googlecharts\", \"mode\": \"vega-lite\"});\n",
              "</script>"
            ]
          },
          "metadata": {
            "tags": []
          },
          "execution_count": 6
        }
      ]
    },
    {
      "cell_type": "markdown",
      "metadata": {
        "id": "HaI_dJVZqUHM",
        "colab_type": "text"
      },
      "source": [
        "Os termos ligados a bancos tiveram um alta esse ano como consequência da pandemia.\n",
        "\n",
        "Agora vamos olhar mais para uns termos em específico.\n",
        "\n",
        "\n",
        "\n"
      ]
    },
    {
      "cell_type": "code",
      "metadata": {
        "id": "z8VLYZHB3pUI",
        "colab_type": "code",
        "colab": {
          "base_uri": "https://localhost:8080/",
          "height": 386
        },
        "outputId": "9e2abd09-eddb-4ff8-88c9-70ee357d5f4e"
      },
      "source": [
        "palavras_chave = ['linha de crédito',\n",
        "            'crédito para empresas']\n",
        "\n",
        "pytrend.build_payload(\n",
        "     kw_list=palavras_chave,\n",
        "     cat=0,\n",
        "     timeframe='2019-01-01 2020-06-01',\n",
        "     geo='BR',\n",
        "     gprop='')\n",
        "\n",
        "pytrend_data = pytrend.interest_over_time().drop(['isPartial'], axis=1)\n",
        "\n",
        "alt.Chart(pytrend_data.reset_index(),\n",
        "          title = ''\n",
        "          ).transform_fold(\n",
        "    palavras_chave,\n",
        "    ).mark_line().encode(\n",
        "    x=alt.X('date:T',\n",
        "            title='',\n",
        "            axis = alt.Axis(format=('%m/%y'))),\n",
        "    y=alt.Y('value:Q', \n",
        "            title='Index de buscas no Google'),\n",
        "    color=alt.Color('key:N', title='Termo',\n",
        "                    sort=['linha de crédito'])\n",
        ").properties(\n",
        "    title='Pesquisas relacionadas a crédito cresceram durante a pandemia'\n",
        ").configure_axis(\n",
        "    grid=False\n",
        ")"
      ],
      "execution_count": 7,
      "outputs": [
        {
          "output_type": "execute_result",
          "data": {
            "text/plain": [
              "alt.Chart(...)"
            ],
            "text/html": [
              "\n",
              "<div id=\"altair-viz-8508888437ed4b60af32377102f4bcf6\"></div>\n",
              "<script type=\"text/javascript\">\n",
              "  (function(spec, embedOpt){\n",
              "    let outputDiv = document.currentScript.previousElementSibling;\n",
              "    if (outputDiv.id !== \"altair-viz-8508888437ed4b60af32377102f4bcf6\") {\n",
              "      outputDiv = document.getElementById(\"altair-viz-8508888437ed4b60af32377102f4bcf6\");\n",
              "    }\n",
              "    const paths = {\n",
              "      \"vega\": \"https://cdn.jsdelivr.net/npm//vega@5?noext\",\n",
              "      \"vega-lib\": \"https://cdn.jsdelivr.net/npm//vega-lib?noext\",\n",
              "      \"vega-lite\": \"https://cdn.jsdelivr.net/npm//vega-lite@4.8.1?noext\",\n",
              "      \"vega-embed\": \"https://cdn.jsdelivr.net/npm//vega-embed@6?noext\",\n",
              "    };\n",
              "\n",
              "    function loadScript(lib) {\n",
              "      return new Promise(function(resolve, reject) {\n",
              "        var s = document.createElement('script');\n",
              "        s.src = paths[lib];\n",
              "        s.async = true;\n",
              "        s.onload = () => resolve(paths[lib]);\n",
              "        s.onerror = () => reject(`Error loading script: ${paths[lib]}`);\n",
              "        document.getElementsByTagName(\"head\")[0].appendChild(s);\n",
              "      });\n",
              "    }\n",
              "\n",
              "    function showError(err) {\n",
              "      outputDiv.innerHTML = `<div class=\"error\" style=\"color:red;\">${err}</div>`;\n",
              "      throw err;\n",
              "    }\n",
              "\n",
              "    function displayChart(vegaEmbed) {\n",
              "      vegaEmbed(outputDiv, spec, embedOpt)\n",
              "        .catch(err => showError(`Javascript Error: ${err.message}<br>This usually means there's a typo in your chart specification. See the javascript console for the full traceback.`));\n",
              "    }\n",
              "\n",
              "    if(typeof define === \"function\" && define.amd) {\n",
              "      requirejs.config({paths});\n",
              "      require([\"vega-embed\"], displayChart, err => showError(`Error loading script: ${err.message}`));\n",
              "    } else if (typeof vegaEmbed === \"function\") {\n",
              "      displayChart(vegaEmbed);\n",
              "    } else {\n",
              "      loadScript(\"vega\")\n",
              "        .then(() => loadScript(\"vega-lite\"))\n",
              "        .then(() => loadScript(\"vega-embed\"))\n",
              "        .catch(showError)\n",
              "        .then(() => displayChart(vegaEmbed));\n",
              "    }\n",
              "  })({\"config\": {\"view\": {\"continuousWidth\": 400, \"continuousHeight\": 300}, \"axis\": {\"grid\": false}}, \"data\": {\"name\": \"data-fcc1711faad0cc542ab53f479fe12e40\"}, \"mark\": \"line\", \"encoding\": {\"color\": {\"type\": \"nominal\", \"field\": \"key\", \"sort\": [\"linha de cr\\u00e9dito\"], \"title\": \"Termo\"}, \"x\": {\"type\": \"temporal\", \"axis\": {\"format\": \"%m/%y\"}, \"field\": \"date\", \"title\": \"\"}, \"y\": {\"type\": \"quantitative\", \"field\": \"value\", \"title\": \"Index de buscas no Google\"}}, \"title\": \"Pesquisas relacionadas a cr\\u00e9dito cresceram durante a pandemia\", \"transform\": [{\"fold\": [\"linha de cr\\u00e9dito\", \"cr\\u00e9dito para empresas\"]}], \"$schema\": \"https://vega.github.io/schema/vega-lite/v4.8.1.json\", \"datasets\": {\"data-fcc1711faad0cc542ab53f479fe12e40\": [{\"date\": \"2019-01-06T00:00:00\", \"linha de cr\\u00e9dito\": 5, \"cr\\u00e9dito para empresas\": 7}, {\"date\": \"2019-01-13T00:00:00\", \"linha de cr\\u00e9dito\": 19, \"cr\\u00e9dito para empresas\": 4}, {\"date\": \"2019-01-20T00:00:00\", \"linha de cr\\u00e9dito\": 10, \"cr\\u00e9dito para empresas\": 16}, {\"date\": \"2019-01-27T00:00:00\", \"linha de cr\\u00e9dito\": 20, \"cr\\u00e9dito para empresas\": 7}, {\"date\": \"2019-02-03T00:00:00\", \"linha de cr\\u00e9dito\": 12, \"cr\\u00e9dito para empresas\": 4}, {\"date\": \"2019-02-10T00:00:00\", \"linha de cr\\u00e9dito\": 15, \"cr\\u00e9dito para empresas\": 6}, {\"date\": \"2019-02-17T00:00:00\", \"linha de cr\\u00e9dito\": 9, \"cr\\u00e9dito para empresas\": 8}, {\"date\": \"2019-02-24T00:00:00\", \"linha de cr\\u00e9dito\": 9, \"cr\\u00e9dito para empresas\": 5}, {\"date\": \"2019-03-03T00:00:00\", \"linha de cr\\u00e9dito\": 10, \"cr\\u00e9dito para empresas\": 9}, {\"date\": \"2019-03-10T00:00:00\", \"linha de cr\\u00e9dito\": 17, \"cr\\u00e9dito para empresas\": 12}, {\"date\": \"2019-03-17T00:00:00\", \"linha de cr\\u00e9dito\": 10, \"cr\\u00e9dito para empresas\": 10}, {\"date\": \"2019-03-24T00:00:00\", \"linha de cr\\u00e9dito\": 9, \"cr\\u00e9dito para empresas\": 10}, {\"date\": \"2019-03-31T00:00:00\", \"linha de cr\\u00e9dito\": 16, \"cr\\u00e9dito para empresas\": 4}, {\"date\": \"2019-04-07T00:00:00\", \"linha de cr\\u00e9dito\": 13, \"cr\\u00e9dito para empresas\": 8}, {\"date\": \"2019-04-14T00:00:00\", \"linha de cr\\u00e9dito\": 31, \"cr\\u00e9dito para empresas\": 13}, {\"date\": \"2019-04-21T00:00:00\", \"linha de cr\\u00e9dito\": 19, \"cr\\u00e9dito para empresas\": 10}, {\"date\": \"2019-04-28T00:00:00\", \"linha de cr\\u00e9dito\": 13, \"cr\\u00e9dito para empresas\": 9}, {\"date\": \"2019-05-05T00:00:00\", \"linha de cr\\u00e9dito\": 13, \"cr\\u00e9dito para empresas\": 10}, {\"date\": \"2019-05-12T00:00:00\", \"linha de cr\\u00e9dito\": 19, \"cr\\u00e9dito para empresas\": 14}, {\"date\": \"2019-05-19T00:00:00\", \"linha de cr\\u00e9dito\": 10, \"cr\\u00e9dito para empresas\": 6}, {\"date\": \"2019-05-26T00:00:00\", \"linha de cr\\u00e9dito\": 20, \"cr\\u00e9dito para empresas\": 7}, {\"date\": \"2019-06-02T00:00:00\", \"linha de cr\\u00e9dito\": 9, \"cr\\u00e9dito para empresas\": 13}, {\"date\": \"2019-06-09T00:00:00\", \"linha de cr\\u00e9dito\": 17, \"cr\\u00e9dito para empresas\": 11}, {\"date\": \"2019-06-16T00:00:00\", \"linha de cr\\u00e9dito\": 21, \"cr\\u00e9dito para empresas\": 4}, {\"date\": \"2019-06-23T00:00:00\", \"linha de cr\\u00e9dito\": 15, \"cr\\u00e9dito para empresas\": 4}, {\"date\": \"2019-06-30T00:00:00\", \"linha de cr\\u00e9dito\": 10, \"cr\\u00e9dito para empresas\": 9}, {\"date\": \"2019-07-07T00:00:00\", \"linha de cr\\u00e9dito\": 12, \"cr\\u00e9dito para empresas\": 6}, {\"date\": \"2019-07-14T00:00:00\", \"linha de cr\\u00e9dito\": 16, \"cr\\u00e9dito para empresas\": 6}, {\"date\": \"2019-07-21T00:00:00\", \"linha de cr\\u00e9dito\": 19, \"cr\\u00e9dito para empresas\": 6}, {\"date\": \"2019-07-28T00:00:00\", \"linha de cr\\u00e9dito\": 17, \"cr\\u00e9dito para empresas\": 10}, {\"date\": \"2019-08-04T00:00:00\", \"linha de cr\\u00e9dito\": 11, \"cr\\u00e9dito para empresas\": 6}, {\"date\": \"2019-08-11T00:00:00\", \"linha de cr\\u00e9dito\": 12, \"cr\\u00e9dito para empresas\": 9}, {\"date\": \"2019-08-18T00:00:00\", \"linha de cr\\u00e9dito\": 30, \"cr\\u00e9dito para empresas\": 8}, {\"date\": \"2019-08-25T00:00:00\", \"linha de cr\\u00e9dito\": 14, \"cr\\u00e9dito para empresas\": 10}, {\"date\": \"2019-09-01T00:00:00\", \"linha de cr\\u00e9dito\": 17, \"cr\\u00e9dito para empresas\": 6}, {\"date\": \"2019-09-08T00:00:00\", \"linha de cr\\u00e9dito\": 23, \"cr\\u00e9dito para empresas\": 11}, {\"date\": \"2019-09-15T00:00:00\", \"linha de cr\\u00e9dito\": 26, \"cr\\u00e9dito para empresas\": 8}, {\"date\": \"2019-09-22T00:00:00\", \"linha de cr\\u00e9dito\": 15, \"cr\\u00e9dito para empresas\": 12}, {\"date\": \"2019-09-29T00:00:00\", \"linha de cr\\u00e9dito\": 18, \"cr\\u00e9dito para empresas\": 9}, {\"date\": \"2019-10-06T00:00:00\", \"linha de cr\\u00e9dito\": 8, \"cr\\u00e9dito para empresas\": 9}, {\"date\": \"2019-10-13T00:00:00\", \"linha de cr\\u00e9dito\": 17, \"cr\\u00e9dito para empresas\": 9}, {\"date\": \"2019-10-20T00:00:00\", \"linha de cr\\u00e9dito\": 20, \"cr\\u00e9dito para empresas\": 16}, {\"date\": \"2019-10-27T00:00:00\", \"linha de cr\\u00e9dito\": 8, \"cr\\u00e9dito para empresas\": 4}, {\"date\": \"2019-11-03T00:00:00\", \"linha de cr\\u00e9dito\": 9, \"cr\\u00e9dito para empresas\": 11}, {\"date\": \"2019-11-10T00:00:00\", \"linha de cr\\u00e9dito\": 12, \"cr\\u00e9dito para empresas\": 9}, {\"date\": \"2019-11-17T00:00:00\", \"linha de cr\\u00e9dito\": 12, \"cr\\u00e9dito para empresas\": 7}, {\"date\": \"2019-11-24T00:00:00\", \"linha de cr\\u00e9dito\": 16, \"cr\\u00e9dito para empresas\": 6}, {\"date\": \"2019-12-01T00:00:00\", \"linha de cr\\u00e9dito\": 9, \"cr\\u00e9dito para empresas\": 9}, {\"date\": \"2019-12-08T00:00:00\", \"linha de cr\\u00e9dito\": 12, \"cr\\u00e9dito para empresas\": 6}, {\"date\": \"2019-12-15T00:00:00\", \"linha de cr\\u00e9dito\": 7, \"cr\\u00e9dito para empresas\": 9}, {\"date\": \"2019-12-22T00:00:00\", \"linha de cr\\u00e9dito\": 9, \"cr\\u00e9dito para empresas\": 4}, {\"date\": \"2019-12-29T00:00:00\", \"linha de cr\\u00e9dito\": 7, \"cr\\u00e9dito para empresas\": 8}, {\"date\": \"2020-01-05T00:00:00\", \"linha de cr\\u00e9dito\": 12, \"cr\\u00e9dito para empresas\": 4}, {\"date\": \"2020-01-12T00:00:00\", \"linha de cr\\u00e9dito\": 12, \"cr\\u00e9dito para empresas\": 6}, {\"date\": \"2020-01-19T00:00:00\", \"linha de cr\\u00e9dito\": 18, \"cr\\u00e9dito para empresas\": 5}, {\"date\": \"2020-01-26T00:00:00\", \"linha de cr\\u00e9dito\": 16, \"cr\\u00e9dito para empresas\": 5}, {\"date\": \"2020-02-02T00:00:00\", \"linha de cr\\u00e9dito\": 16, \"cr\\u00e9dito para empresas\": 5}, {\"date\": \"2020-02-09T00:00:00\", \"linha de cr\\u00e9dito\": 10, \"cr\\u00e9dito para empresas\": 8}, {\"date\": \"2020-02-16T00:00:00\", \"linha de cr\\u00e9dito\": 13, \"cr\\u00e9dito para empresas\": 5}, {\"date\": \"2020-02-23T00:00:00\", \"linha de cr\\u00e9dito\": 10, \"cr\\u00e9dito para empresas\": 7}, {\"date\": \"2020-03-01T00:00:00\", \"linha de cr\\u00e9dito\": 8, \"cr\\u00e9dito para empresas\": 9}, {\"date\": \"2020-03-08T00:00:00\", \"linha de cr\\u00e9dito\": 25, \"cr\\u00e9dito para empresas\": 8}, {\"date\": \"2020-03-15T00:00:00\", \"linha de cr\\u00e9dito\": 30, \"cr\\u00e9dito para empresas\": 19}, {\"date\": \"2020-03-22T00:00:00\", \"linha de cr\\u00e9dito\": 100, \"cr\\u00e9dito para empresas\": 54}, {\"date\": \"2020-03-29T00:00:00\", \"linha de cr\\u00e9dito\": 100, \"cr\\u00e9dito para empresas\": 50}, {\"date\": \"2020-04-05T00:00:00\", \"linha de cr\\u00e9dito\": 76, \"cr\\u00e9dito para empresas\": 44}, {\"date\": \"2020-04-12T00:00:00\", \"linha de cr\\u00e9dito\": 74, \"cr\\u00e9dito para empresas\": 28}, {\"date\": \"2020-04-19T00:00:00\", \"linha de cr\\u00e9dito\": 90, \"cr\\u00e9dito para empresas\": 59}, {\"date\": \"2020-04-26T00:00:00\", \"linha de cr\\u00e9dito\": 62, \"cr\\u00e9dito para empresas\": 51}, {\"date\": \"2020-05-03T00:00:00\", \"linha de cr\\u00e9dito\": 44, \"cr\\u00e9dito para empresas\": 26}, {\"date\": \"2020-05-10T00:00:00\", \"linha de cr\\u00e9dito\": 23, \"cr\\u00e9dito para empresas\": 16}, {\"date\": \"2020-05-17T00:00:00\", \"linha de cr\\u00e9dito\": 68, \"cr\\u00e9dito para empresas\": 49}, {\"date\": \"2020-05-24T00:00:00\", \"linha de cr\\u00e9dito\": 45, \"cr\\u00e9dito para empresas\": 22}, {\"date\": \"2020-05-31T00:00:00\", \"linha de cr\\u00e9dito\": 35, \"cr\\u00e9dito para empresas\": 43}]}}, {\"theme\": \"googlecharts\", \"mode\": \"vega-lite\"});\n",
              "</script>"
            ]
          },
          "metadata": {
            "tags": []
          },
          "execution_count": 7
        }
      ]
    },
    {
      "cell_type": "markdown",
      "metadata": {
        "id": "Sh_bD-P2q7Gl",
        "colab_type": "text"
      },
      "source": [
        "Agora que já vimos um geral do crescimento dos serviços bancários para empresas, podemos ver alguns produtos ainda mais de nicho.\n",
        "\n",
        "O Santander possui alguns produtos direcionados a pequenos negócios, vimos \n",
        "como eles se comportaram no ultimo ano, com a curva de 'crédito para empresas' para comparação."
      ]
    },
    {
      "cell_type": "code",
      "metadata": {
        "id": "0JSHQOj6FmDG",
        "colab_type": "code",
        "colab": {
          "base_uri": "https://localhost:8080/",
          "height": 386
        },
        "outputId": "31ab86b9-f3b4-415b-d9a3-f624d770dca2"
      },
      "source": [
        "palavras_chave = ['santander prospera',\n",
        "            'santander copiloto',\n",
        "            'crédito para empresas']\n",
        "\n",
        "pytrend.build_payload(\n",
        "     kw_list=palavras_chave,\n",
        "     cat=0,\n",
        "     timeframe='2019-01-01 2020-06-01',\n",
        "     geo='BR',\n",
        "     gprop='')\n",
        "\n",
        "pytrend_data = pytrend.interest_over_time().drop(['isPartial'], axis=1)\n",
        "\n",
        "alt.Chart(pytrend_data.reset_index()\n",
        "          ).transform_fold(\n",
        "    palavras_chave,\n",
        "    ).mark_line().encode(\n",
        "    x=alt.X('date:T',\n",
        "            axis = alt.Axis(format=('%m/%y'),\n",
        "            title = '')),\n",
        "    y=alt.Y('value:Q', \n",
        "            title='Index de buscas no Google'),\n",
        "    color=alt.Color('key:N', title='Termo',\n",
        "                    sort=['crédito para empresas', 'santander prospera'])\n",
        ").properties(\n",
        "    title='Copiloto e Prospera estão se popularizando mas há espaço de crescimento' \n",
        ").configure_axis(\n",
        "    grid=False\n",
        ")"
      ],
      "execution_count": 8,
      "outputs": [
        {
          "output_type": "execute_result",
          "data": {
            "text/plain": [
              "alt.Chart(...)"
            ],
            "text/html": [
              "\n",
              "<div id=\"altair-viz-0e030c39e2374df2b729bd4955ab485b\"></div>\n",
              "<script type=\"text/javascript\">\n",
              "  (function(spec, embedOpt){\n",
              "    let outputDiv = document.currentScript.previousElementSibling;\n",
              "    if (outputDiv.id !== \"altair-viz-0e030c39e2374df2b729bd4955ab485b\") {\n",
              "      outputDiv = document.getElementById(\"altair-viz-0e030c39e2374df2b729bd4955ab485b\");\n",
              "    }\n",
              "    const paths = {\n",
              "      \"vega\": \"https://cdn.jsdelivr.net/npm//vega@5?noext\",\n",
              "      \"vega-lib\": \"https://cdn.jsdelivr.net/npm//vega-lib?noext\",\n",
              "      \"vega-lite\": \"https://cdn.jsdelivr.net/npm//vega-lite@4.8.1?noext\",\n",
              "      \"vega-embed\": \"https://cdn.jsdelivr.net/npm//vega-embed@6?noext\",\n",
              "    };\n",
              "\n",
              "    function loadScript(lib) {\n",
              "      return new Promise(function(resolve, reject) {\n",
              "        var s = document.createElement('script');\n",
              "        s.src = paths[lib];\n",
              "        s.async = true;\n",
              "        s.onload = () => resolve(paths[lib]);\n",
              "        s.onerror = () => reject(`Error loading script: ${paths[lib]}`);\n",
              "        document.getElementsByTagName(\"head\")[0].appendChild(s);\n",
              "      });\n",
              "    }\n",
              "\n",
              "    function showError(err) {\n",
              "      outputDiv.innerHTML = `<div class=\"error\" style=\"color:red;\">${err}</div>`;\n",
              "      throw err;\n",
              "    }\n",
              "\n",
              "    function displayChart(vegaEmbed) {\n",
              "      vegaEmbed(outputDiv, spec, embedOpt)\n",
              "        .catch(err => showError(`Javascript Error: ${err.message}<br>This usually means there's a typo in your chart specification. See the javascript console for the full traceback.`));\n",
              "    }\n",
              "\n",
              "    if(typeof define === \"function\" && define.amd) {\n",
              "      requirejs.config({paths});\n",
              "      require([\"vega-embed\"], displayChart, err => showError(`Error loading script: ${err.message}`));\n",
              "    } else if (typeof vegaEmbed === \"function\") {\n",
              "      displayChart(vegaEmbed);\n",
              "    } else {\n",
              "      loadScript(\"vega\")\n",
              "        .then(() => loadScript(\"vega-lite\"))\n",
              "        .then(() => loadScript(\"vega-embed\"))\n",
              "        .catch(showError)\n",
              "        .then(() => displayChart(vegaEmbed));\n",
              "    }\n",
              "  })({\"config\": {\"view\": {\"continuousWidth\": 400, \"continuousHeight\": 300}, \"axis\": {\"grid\": false}}, \"data\": {\"name\": \"data-fae0fcf7de551d3d2a1eabea181b8288\"}, \"mark\": \"line\", \"encoding\": {\"color\": {\"type\": \"nominal\", \"field\": \"key\", \"sort\": [\"cr\\u00e9dito para empresas\", \"santander prospera\"], \"title\": \"Termo\"}, \"x\": {\"type\": \"temporal\", \"axis\": {\"format\": \"%m/%y\", \"title\": \"\"}, \"field\": \"date\"}, \"y\": {\"type\": \"quantitative\", \"field\": \"value\", \"title\": \"Index de buscas no Google\"}}, \"title\": \"Copiloto e Prospera est\\u00e3o se popularizando mas h\\u00e1 espa\\u00e7o de crescimento\", \"transform\": [{\"fold\": [\"santander prospera\", \"santander copiloto\", \"cr\\u00e9dito para empresas\"]}], \"$schema\": \"https://vega.github.io/schema/vega-lite/v4.8.1.json\", \"datasets\": {\"data-fae0fcf7de551d3d2a1eabea181b8288\": [{\"date\": \"2019-01-06T00:00:00\", \"santander prospera\": 20, \"santander copiloto\": 0, \"cr\\u00e9dito para empresas\": 10}, {\"date\": \"2019-01-13T00:00:00\", \"santander prospera\": 13, \"santander copiloto\": 0, \"cr\\u00e9dito para empresas\": 6}, {\"date\": \"2019-01-20T00:00:00\", \"santander prospera\": 12, \"santander copiloto\": 0, \"cr\\u00e9dito para empresas\": 37}, {\"date\": \"2019-01-27T00:00:00\", \"santander prospera\": 0, \"santander copiloto\": 0, \"cr\\u00e9dito para empresas\": 6}, {\"date\": \"2019-02-03T00:00:00\", \"santander prospera\": 6, \"santander copiloto\": 0, \"cr\\u00e9dito para empresas\": 6}, {\"date\": \"2019-02-10T00:00:00\", \"santander prospera\": 12, \"santander copiloto\": 0, \"cr\\u00e9dito para empresas\": 6}, {\"date\": \"2019-02-17T00:00:00\", \"santander prospera\": 0, \"santander copiloto\": 0, \"cr\\u00e9dito para empresas\": 12}, {\"date\": \"2019-02-24T00:00:00\", \"santander prospera\": 6, \"santander copiloto\": 0, \"cr\\u00e9dito para empresas\": 9}, {\"date\": \"2019-03-03T00:00:00\", \"santander prospera\": 0, \"santander copiloto\": 0, \"cr\\u00e9dito para empresas\": 14}, {\"date\": \"2019-03-10T00:00:00\", \"santander prospera\": 0, \"santander copiloto\": 0, \"cr\\u00e9dito para empresas\": 24}, {\"date\": \"2019-03-17T00:00:00\", \"santander prospera\": 12, \"santander copiloto\": 0, \"cr\\u00e9dito para empresas\": 12}, {\"date\": \"2019-03-24T00:00:00\", \"santander prospera\": 0, \"santander copiloto\": 0, \"cr\\u00e9dito para empresas\": 21}, {\"date\": \"2019-03-31T00:00:00\", \"santander prospera\": 6, \"santander copiloto\": 0, \"cr\\u00e9dito para empresas\": 6}, {\"date\": \"2019-04-07T00:00:00\", \"santander prospera\": 6, \"santander copiloto\": 0, \"cr\\u00e9dito para empresas\": 6}, {\"date\": \"2019-04-14T00:00:00\", \"santander prospera\": 0, \"santander copiloto\": 0, \"cr\\u00e9dito para empresas\": 24}, {\"date\": \"2019-04-21T00:00:00\", \"santander prospera\": 6, \"santander copiloto\": 0, \"cr\\u00e9dito para empresas\": 12}, {\"date\": \"2019-04-28T00:00:00\", \"santander prospera\": 6, \"santander copiloto\": 0, \"cr\\u00e9dito para empresas\": 19}, {\"date\": \"2019-05-05T00:00:00\", \"santander prospera\": 12, \"santander copiloto\": 0, \"cr\\u00e9dito para empresas\": 15}, {\"date\": \"2019-05-12T00:00:00\", \"santander prospera\": 9, \"santander copiloto\": 0, \"cr\\u00e9dito para empresas\": 21}, {\"date\": \"2019-05-19T00:00:00\", \"santander prospera\": 0, \"santander copiloto\": 0, \"cr\\u00e9dito para empresas\": 12}, {\"date\": \"2019-05-26T00:00:00\", \"santander prospera\": 0, \"santander copiloto\": 0, \"cr\\u00e9dito para empresas\": 6}, {\"date\": \"2019-06-02T00:00:00\", \"santander prospera\": 0, \"santander copiloto\": 0, \"cr\\u00e9dito para empresas\": 20}, {\"date\": \"2019-06-09T00:00:00\", \"santander prospera\": 12, \"santander copiloto\": 0, \"cr\\u00e9dito para empresas\": 21}, {\"date\": \"2019-06-16T00:00:00\", \"santander prospera\": 6, \"santander copiloto\": 0, \"cr\\u00e9dito para empresas\": 0}, {\"date\": \"2019-06-23T00:00:00\", \"santander prospera\": 12, \"santander copiloto\": 0, \"cr\\u00e9dito para empresas\": 6}, {\"date\": \"2019-06-30T00:00:00\", \"santander prospera\": 12, \"santander copiloto\": 0, \"cr\\u00e9dito para empresas\": 15}, {\"date\": \"2019-07-07T00:00:00\", \"santander prospera\": 6, \"santander copiloto\": 0, \"cr\\u00e9dito para empresas\": 13}, {\"date\": \"2019-07-14T00:00:00\", \"santander prospera\": 19, \"santander copiloto\": 0, \"cr\\u00e9dito para empresas\": 9}, {\"date\": \"2019-07-21T00:00:00\", \"santander prospera\": 6, \"santander copiloto\": 0, \"cr\\u00e9dito para empresas\": 9}, {\"date\": \"2019-07-28T00:00:00\", \"santander prospera\": 9, \"santander copiloto\": 0, \"cr\\u00e9dito para empresas\": 18}, {\"date\": \"2019-08-04T00:00:00\", \"santander prospera\": 12, \"santander copiloto\": 0, \"cr\\u00e9dito para empresas\": 12}, {\"date\": \"2019-08-11T00:00:00\", \"santander prospera\": 9, \"santander copiloto\": 0, \"cr\\u00e9dito para empresas\": 12}, {\"date\": \"2019-08-18T00:00:00\", \"santander prospera\": 6, \"santander copiloto\": 0, \"cr\\u00e9dito para empresas\": 14}, {\"date\": \"2019-08-25T00:00:00\", \"santander prospera\": 6, \"santander copiloto\": 0, \"cr\\u00e9dito para empresas\": 12}, {\"date\": \"2019-09-01T00:00:00\", \"santander prospera\": 6, \"santander copiloto\": 0, \"cr\\u00e9dito para empresas\": 9}, {\"date\": \"2019-09-08T00:00:00\", \"santander prospera\": 6, \"santander copiloto\": 0, \"cr\\u00e9dito para empresas\": 17}, {\"date\": \"2019-09-15T00:00:00\", \"santander prospera\": 6, \"santander copiloto\": 0, \"cr\\u00e9dito para empresas\": 14}, {\"date\": \"2019-09-22T00:00:00\", \"santander prospera\": 6, \"santander copiloto\": 0, \"cr\\u00e9dito para empresas\": 20}, {\"date\": \"2019-09-29T00:00:00\", \"santander prospera\": 0, \"santander copiloto\": 0, \"cr\\u00e9dito para empresas\": 14}, {\"date\": \"2019-10-06T00:00:00\", \"santander prospera\": 11, \"santander copiloto\": 0, \"cr\\u00e9dito para empresas\": 22}, {\"date\": \"2019-10-13T00:00:00\", \"santander prospera\": 5, \"santander copiloto\": 0, \"cr\\u00e9dito para empresas\": 16}, {\"date\": \"2019-10-20T00:00:00\", \"santander prospera\": 0, \"santander copiloto\": 0, \"cr\\u00e9dito para empresas\": 22}, {\"date\": \"2019-10-27T00:00:00\", \"santander prospera\": 8, \"santander copiloto\": 0, \"cr\\u00e9dito para empresas\": 8}, {\"date\": \"2019-11-03T00:00:00\", \"santander prospera\": 13, \"santander copiloto\": 0, \"cr\\u00e9dito para empresas\": 8}, {\"date\": \"2019-11-10T00:00:00\", \"santander prospera\": 6, \"santander copiloto\": 0, \"cr\\u00e9dito para empresas\": 6}, {\"date\": \"2019-11-17T00:00:00\", \"santander prospera\": 16, \"santander copiloto\": 0, \"cr\\u00e9dito para empresas\": 11}, {\"date\": \"2019-11-24T00:00:00\", \"santander prospera\": 5, \"santander copiloto\": 0, \"cr\\u00e9dito para empresas\": 11}, {\"date\": \"2019-12-01T00:00:00\", \"santander prospera\": 0, \"santander copiloto\": 0, \"cr\\u00e9dito para empresas\": 22}, {\"date\": \"2019-12-08T00:00:00\", \"santander prospera\": 12, \"santander copiloto\": 0, \"cr\\u00e9dito para empresas\": 9}, {\"date\": \"2019-12-15T00:00:00\", \"santander prospera\": 12, \"santander copiloto\": 0, \"cr\\u00e9dito para empresas\": 15}, {\"date\": \"2019-12-22T00:00:00\", \"santander prospera\": 0, \"santander copiloto\": 0, \"cr\\u00e9dito para empresas\": 7}, {\"date\": \"2019-12-29T00:00:00\", \"santander prospera\": 0, \"santander copiloto\": 0, \"cr\\u00e9dito para empresas\": 13}, {\"date\": \"2020-01-05T00:00:00\", \"santander prospera\": 17, \"santander copiloto\": 0, \"cr\\u00e9dito para empresas\": 6}, {\"date\": \"2020-01-12T00:00:00\", \"santander prospera\": 0, \"santander copiloto\": 0, \"cr\\u00e9dito para empresas\": 8}, {\"date\": \"2020-01-19T00:00:00\", \"santander prospera\": 5, \"santander copiloto\": 0, \"cr\\u00e9dito para empresas\": 8}, {\"date\": \"2020-01-26T00:00:00\", \"santander prospera\": 5, \"santander copiloto\": 0, \"cr\\u00e9dito para empresas\": 11}, {\"date\": \"2020-02-02T00:00:00\", \"santander prospera\": 0, \"santander copiloto\": 0, \"cr\\u00e9dito para empresas\": 8}, {\"date\": \"2020-02-09T00:00:00\", \"santander prospera\": 0, \"santander copiloto\": 0, \"cr\\u00e9dito para empresas\": 13}, {\"date\": \"2020-02-16T00:00:00\", \"santander prospera\": 5, \"santander copiloto\": 0, \"cr\\u00e9dito para empresas\": 8}, {\"date\": \"2020-02-23T00:00:00\", \"santander prospera\": 0, \"santander copiloto\": 0, \"cr\\u00e9dito para empresas\": 11}, {\"date\": \"2020-03-01T00:00:00\", \"santander prospera\": 10, \"santander copiloto\": 0, \"cr\\u00e9dito para empresas\": 7}, {\"date\": \"2020-03-08T00:00:00\", \"santander prospera\": 5, \"santander copiloto\": 0, \"cr\\u00e9dito para empresas\": 12}, {\"date\": \"2020-03-15T00:00:00\", \"santander prospera\": 5, \"santander copiloto\": 0, \"cr\\u00e9dito para empresas\": 32}, {\"date\": \"2020-03-22T00:00:00\", \"santander prospera\": 5, \"santander copiloto\": 0, \"cr\\u00e9dito para empresas\": 76}, {\"date\": \"2020-03-29T00:00:00\", \"santander prospera\": 9, \"santander copiloto\": 5, \"cr\\u00e9dito para empresas\": 76}, {\"date\": \"2020-04-05T00:00:00\", \"santander prospera\": 14, \"santander copiloto\": 16, \"cr\\u00e9dito para empresas\": 58}, {\"date\": \"2020-04-12T00:00:00\", \"santander prospera\": 5, \"santander copiloto\": 5, \"cr\\u00e9dito para empresas\": 42}, {\"date\": \"2020-04-19T00:00:00\", \"santander prospera\": 5, \"santander copiloto\": 0, \"cr\\u00e9dito para empresas\": 100}, {\"date\": \"2020-04-26T00:00:00\", \"santander prospera\": 5, \"santander copiloto\": 9, \"cr\\u00e9dito para empresas\": 84}, {\"date\": \"2020-05-03T00:00:00\", \"santander prospera\": 0, \"santander copiloto\": 5, \"cr\\u00e9dito para empresas\": 38}, {\"date\": \"2020-05-10T00:00:00\", \"santander prospera\": 9, \"santander copiloto\": 0, \"cr\\u00e9dito para empresas\": 27}, {\"date\": \"2020-05-17T00:00:00\", \"santander prospera\": 5, \"santander copiloto\": 9, \"cr\\u00e9dito para empresas\": 76}, {\"date\": \"2020-05-24T00:00:00\", \"santander prospera\": 9, \"santander copiloto\": 12, \"cr\\u00e9dito para empresas\": 37}, {\"date\": \"2020-05-31T00:00:00\", \"santander prospera\": 9, \"santander copiloto\": 9, \"cr\\u00e9dito para empresas\": 53}]}}, {\"theme\": \"googlecharts\", \"mode\": \"vega-lite\"});\n",
              "</script>"
            ]
          },
          "metadata": {
            "tags": []
          },
          "execution_count": 8
        }
      ]
    },
    {
      "cell_type": "markdown",
      "metadata": {
        "id": "yMIGJejjwM-I",
        "colab_type": "text"
      },
      "source": [
        "O setor de crédito e financiamento para empresas está em alta mas as soluções Prospera e Copiloto ainda podem ganhar espaço e atingir mais pequenas empresas.\n",
        "\n",
        "Decidimos então aproveitar essa oportunidade para criar uma solução em conjunto com esses negócios. Seria proposto um chatbot de recomendação de tendências do setor e análise de perfil do usuário, aproveitando a alta do setor bancário e que ele já está próximo do consumidor afetado.\n",
        "\n",
        "Além de que o novo produto pode impulsionar os serviços já existentes e impactar a vida de mais empresários."
      ]
    }
  ]
}
{
  "nbformat": 4,
  "nbformat_minor": 0,
  "metadata": {
    "colab": {
      "name": "Hackathon_investigação",
      "provenance": [],
      "collapsed_sections": [],
      "mount_file_id": "1skoi5wwMKXX7ns1SOL0ZVNFvf7e_jWNP",
      "authorship_tag": "ABX9TyNxAEq7eK+FMCzq8/hQGNl/",
      "include_colab_link": true
    },
    "kernelspec": {
      "name": "python3",
      "display_name": "Python 3"
    }
  },
  "cells": [
    {
      "cell_type": "markdown",
      "metadata": {
        "id": "view-in-github",
        "colab_type": "text"
      },
      "source": [
        "<a href=\"https://colab.research.google.com/github/jorgel-mendes/HackDataSantanderIPYNB/blob/master/Hackathon_investiga%C3%A7%C3%A3o.ipynb\" target=\"_parent\"><img src=\"https://colab.research.google.com/assets/colab-badge.svg\" alt=\"Open In Colab\"/></a>"
      ]
    },
    {
      "cell_type": "markdown",
      "metadata": {
        "id": "DGgCQsxefWIj",
        "colab_type": "text"
      },
      "source": [
        "# Caminhando ao Prospper\n",
        "\n",
        "Esse notebook mostra exploração de dados utilizados que embasou a criação do Prospper, uma solução integrada com o CoPiloto Santander que busca empoderar donos de negócio repassando informação em um formato de simples utilização. \n",
        "\n",
        "A solução foi criada para o Hackathon Data Challenge do Santander do grupo **grupo 41?**.\n",
        "\n",
        "Na nossa análise de compreensão do problema utilizamos dados do IBGE recolhidos no site do [IPEA](http://www.ipeadata.gov.br/Default.aspx) e uma [API em Python](https://github.com/GeneralMills/pytrends) para o google trends."
      ]
    },
    {
      "cell_type": "code",
      "metadata": {
        "id": "QI18wKcpddf0",
        "colab_type": "code",
        "colab": {}
      },
      "source": [
        "!pip install -q pytrends"
      ],
      "execution_count": 1,
      "outputs": []
    },
    {
      "cell_type": "code",
      "metadata": {
        "id": "LyfmVmqzrpGT",
        "colab_type": "code",
        "colab": {
          "base_uri": "https://localhost:8080/",
          "height": 34
        },
        "outputId": "f6bd1fd8-3621-4a5b-8bb6-64d5d8769d37"
      },
      "source": [
        "import pandas as pd\n",
        "import altair as alt\n",
        "alt.renderers.enable(embed_options={'theme': 'googlecharts'})\n",
        "\n",
        "from datetime import datetime\n",
        "alt.renderers.enable('html')"
      ],
      "execution_count": 2,
      "outputs": [
        {
          "output_type": "execute_result",
          "data": {
            "text/plain": [
              "RendererRegistry.enable('html')"
            ]
          },
          "metadata": {
            "tags": []
          },
          "execution_count": 2
        }
      ]
    },
    {
      "cell_type": "markdown",
      "metadata": {
        "id": "_hriuJW6gwQD",
        "colab_type": "text"
      },
      "source": [
        "# Análise do setor de Varejo em 2020\n",
        "\n"
      ]
    },
    {
      "cell_type": "markdown",
      "metadata": {
        "id": "0eO5w3Lx7wOi",
        "colab_type": "text"
      },
      "source": [
        "Pensando em como a crise afetou os pequenos negócios em geral, decidimos focar no setor de varejo, onde muitos estabelecimentos estão em risco de fechar e estão em buscas de soluções.\n",
        "\n",
        "Foi utilizada a base de Indíce de varejo do IBGE para acompanhar o desempenho do setor nos ultimos anos. Os dados da base foram colhidos no IPEADATA, site do Instituto de Pesquisa Econômica Aplicada (IPEA).\n",
        "\n",
        "Os dados representam os dados de venda do setor do varejo comparados com o ano de 2014. Basicamento o valor de 2014 é 100 e os outros números são baseados nele. Por exemplo, um valor de 101 no index significa vendas 1% maiores que o valor de vendas de varejo em 2014.\n",
        "\n",
        "Mas comoo que nos importa é a tendência basta saber que pontos mais baixos significam pior desempenho e pontos mais altos desempenhos melhores."
      ]
    },
    {
      "cell_type": "code",
      "metadata": {
        "id": "VTgBsDymR6W_",
        "colab_type": "code",
        "colab": {
          "base_uri": "https://localhost:8080/",
          "height": 436
        },
        "outputId": "327d49d0-d509-4401-cb7d-603a7b265c9e"
      },
      "source": [
        "pd.read_csv('https://raw.githubusercontent.com/jorgel-mendes/HackDataSantanderIPYNB/master/ipeadata%5B02-08-2020-01-36%5D.csv')"
      ],
      "execution_count": 3,
      "outputs": [
        {
          "output_type": "execute_result",
          "data": {
            "text/html": [
              "<div>\n",
              "<style scoped>\n",
              "    .dataframe tbody tr th:only-of-type {\n",
              "        vertical-align: middle;\n",
              "    }\n",
              "\n",
              "    .dataframe tbody tr th {\n",
              "        vertical-align: top;\n",
              "    }\n",
              "\n",
              "    .dataframe thead th {\n",
              "        text-align: right;\n",
              "    }\n",
              "</style>\n",
              "<table border=\"1\" class=\"dataframe\">\n",
              "  <thead>\n",
              "    <tr style=\"text-align: right;\">\n",
              "      <th></th>\n",
              "      <th>Data</th>\n",
              "      <th>Vendas reais - varejo - índice dessaz. (média 2014 = 100) - - - Instituto Brasileiro de Geografia e Estatística- Pesquisa Mensal de Comércio (IBGE/PMC) - PMC12_IVVRSA12</th>\n",
              "      <th>Unnamed: 2</th>\n",
              "    </tr>\n",
              "  </thead>\n",
              "  <tbody>\n",
              "    <tr>\n",
              "      <th>0</th>\n",
              "      <td>2000.01</td>\n",
              "      <td>49.5</td>\n",
              "      <td>NaN</td>\n",
              "    </tr>\n",
              "    <tr>\n",
              "      <th>1</th>\n",
              "      <td>2000.02</td>\n",
              "      <td>50.0</td>\n",
              "      <td>NaN</td>\n",
              "    </tr>\n",
              "    <tr>\n",
              "      <th>2</th>\n",
              "      <td>2000.03</td>\n",
              "      <td>50.3</td>\n",
              "      <td>NaN</td>\n",
              "    </tr>\n",
              "    <tr>\n",
              "      <th>3</th>\n",
              "      <td>2000.04</td>\n",
              "      <td>50.3</td>\n",
              "      <td>NaN</td>\n",
              "    </tr>\n",
              "    <tr>\n",
              "      <th>4</th>\n",
              "      <td>2000.05</td>\n",
              "      <td>50.7</td>\n",
              "      <td>NaN</td>\n",
              "    </tr>\n",
              "    <tr>\n",
              "      <th>...</th>\n",
              "      <td>...</td>\n",
              "      <td>...</td>\n",
              "      <td>...</td>\n",
              "    </tr>\n",
              "    <tr>\n",
              "      <th>240</th>\n",
              "      <td>2020.01</td>\n",
              "      <td>94.9</td>\n",
              "      <td>NaN</td>\n",
              "    </tr>\n",
              "    <tr>\n",
              "      <th>241</th>\n",
              "      <td>2020.02</td>\n",
              "      <td>95.6</td>\n",
              "      <td>NaN</td>\n",
              "    </tr>\n",
              "    <tr>\n",
              "      <th>242</th>\n",
              "      <td>2020.03</td>\n",
              "      <td>92.9</td>\n",
              "      <td>NaN</td>\n",
              "    </tr>\n",
              "    <tr>\n",
              "      <th>243</th>\n",
              "      <td>2020.04</td>\n",
              "      <td>77.8</td>\n",
              "      <td>NaN</td>\n",
              "    </tr>\n",
              "    <tr>\n",
              "      <th>244</th>\n",
              "      <td>2020.05</td>\n",
              "      <td>88.6</td>\n",
              "      <td>NaN</td>\n",
              "    </tr>\n",
              "  </tbody>\n",
              "</table>\n",
              "<p>245 rows × 3 columns</p>\n",
              "</div>"
            ],
            "text/plain": [
              "        Data  ...  Unnamed: 2\n",
              "0    2000.01  ...         NaN\n",
              "1    2000.02  ...         NaN\n",
              "2    2000.03  ...         NaN\n",
              "3    2000.04  ...         NaN\n",
              "4    2000.05  ...         NaN\n",
              "..       ...  ...         ...\n",
              "240  2020.01  ...         NaN\n",
              "241  2020.02  ...         NaN\n",
              "242  2020.03  ...         NaN\n",
              "243  2020.04  ...         NaN\n",
              "244  2020.05  ...         NaN\n",
              "\n",
              "[245 rows x 3 columns]"
            ]
          },
          "metadata": {
            "tags": []
          },
          "execution_count": 3
        }
      ]
    },
    {
      "cell_type": "code",
      "metadata": {
        "id": "SnkH8qmipLqL",
        "colab_type": "code",
        "colab": {
          "base_uri": "https://localhost:8080/",
          "height": 370
        },
        "outputId": "0411c0e5-ccb7-499a-a661-4654f82e4d75"
      },
      "source": [
        "ipea_varejo = pd.read_csv('https://raw.githubusercontent.com/jorgel-mendes/HackDataSantanderIPYNB/master/ipeadata%5B02-08-2020-01-36%5D.csv')\n",
        "ipea_varejo.drop(ipea_varejo.columns[2], axis=1, inplace=True)\n",
        "ipea_varejo.columns = ['Data', 'Vendas reais (varejo)']\n",
        "ipea_varejo['Data'] = ipea_varejo['Data'].apply(\n",
        "    lambda x: datetime.strptime(str(x), '%Y.%m'))\n",
        "\n",
        "alt.Chart(\n",
        "    ipea_varejo.query('Data > \"2008-12-31\"')\n",
        "    ).mark_line().encode(\n",
        "    x=alt.X('Data', title=''),\n",
        "    y=alt.Y('Vendas reais (varejo)',\n",
        "            title='Index de vendas de varejo',\n",
        "            scale=alt.Scale(zero=False))\n",
        ").properties(\n",
        "    title=\"Index de vendas de varejo atingiu o ponto mais baixo em 10 anos\"\n",
        ")"
      ],
      "execution_count": 4,
      "outputs": [
        {
          "output_type": "execute_result",
          "data": {
            "text/plain": [
              "alt.Chart(...)"
            ],
            "text/html": [
              "\n",
              "<div id=\"altair-viz-361d4fecb0494a94967364e24e5211f6\"></div>\n",
              "<script type=\"text/javascript\">\n",
              "  (function(spec, embedOpt){\n",
              "    let outputDiv = document.currentScript.previousElementSibling;\n",
              "    if (outputDiv.id !== \"altair-viz-361d4fecb0494a94967364e24e5211f6\") {\n",
              "      outputDiv = document.getElementById(\"altair-viz-361d4fecb0494a94967364e24e5211f6\");\n",
              "    }\n",
              "    const paths = {\n",
              "      \"vega\": \"https://cdn.jsdelivr.net/npm//vega@5?noext\",\n",
              "      \"vega-lib\": \"https://cdn.jsdelivr.net/npm//vega-lib?noext\",\n",
              "      \"vega-lite\": \"https://cdn.jsdelivr.net/npm//vega-lite@4.8.1?noext\",\n",
              "      \"vega-embed\": \"https://cdn.jsdelivr.net/npm//vega-embed@6?noext\",\n",
              "    };\n",
              "\n",
              "    function loadScript(lib) {\n",
              "      return new Promise(function(resolve, reject) {\n",
              "        var s = document.createElement('script');\n",
              "        s.src = paths[lib];\n",
              "        s.async = true;\n",
              "        s.onload = () => resolve(paths[lib]);\n",
              "        s.onerror = () => reject(`Error loading script: ${paths[lib]}`);\n",
              "        document.getElementsByTagName(\"head\")[0].appendChild(s);\n",
              "      });\n",
              "    }\n",
              "\n",
              "    function showError(err) {\n",
              "      outputDiv.innerHTML = `<div class=\"error\" style=\"color:red;\">${err}</div>`;\n",
              "      throw err;\n",
              "    }\n",
              "\n",
              "    function displayChart(vegaEmbed) {\n",
              "      vegaEmbed(outputDiv, spec, embedOpt)\n",
              "        .catch(err => showError(`Javascript Error: ${err.message}<br>This usually means there's a typo in your chart specification. See the javascript console for the full traceback.`));\n",
              "    }\n",
              "\n",
              "    if(typeof define === \"function\" && define.amd) {\n",
              "      requirejs.config({paths});\n",
              "      require([\"vega-embed\"], displayChart, err => showError(`Error loading script: ${err.message}`));\n",
              "    } else if (typeof vegaEmbed === \"function\") {\n",
              "      displayChart(vegaEmbed);\n",
              "    } else {\n",
              "      loadScript(\"vega\")\n",
              "        .then(() => loadScript(\"vega-lite\"))\n",
              "        .then(() => loadScript(\"vega-embed\"))\n",
              "        .catch(showError)\n",
              "        .then(() => displayChart(vegaEmbed));\n",
              "    }\n",
              "  })({\"config\": {\"view\": {\"continuousWidth\": 400, \"continuousHeight\": 300}}, \"data\": {\"name\": \"data-4535e7ffb32fb5a569488c791cf91577\"}, \"mark\": \"line\", \"encoding\": {\"x\": {\"type\": \"temporal\", \"field\": \"Data\", \"title\": \"\"}, \"y\": {\"type\": \"quantitative\", \"field\": \"Vendas reais (varejo)\", \"scale\": {\"zero\": false}, \"title\": \"Index de vendas de varejo\"}}, \"title\": \"Index de vendas de varejo atingiu o ponto mais baixo em 10 anos\", \"$schema\": \"https://vega.github.io/schema/vega-lite/v4.8.1.json\", \"datasets\": {\"data-4535e7ffb32fb5a569488c791cf91577\": [{\"Data\": \"2009-01-01T00:00:00\", \"Vendas reais (varejo)\": 69.9}, {\"Data\": \"2009-02-01T00:00:00\", \"Vendas reais (varejo)\": 71.1}, {\"Data\": \"2009-03-01T00:00:00\", \"Vendas reais (varejo)\": 70.8}, {\"Data\": \"2009-04-01T00:00:00\", \"Vendas reais (varejo)\": 71.4}, {\"Data\": \"2009-05-01T00:00:00\", \"Vendas reais (varejo)\": 71.8}, {\"Data\": \"2009-06-01T00:00:00\", \"Vendas reais (varejo)\": 72.7}, {\"Data\": \"2009-07-01T00:00:00\", \"Vendas reais (varejo)\": 73.2}, {\"Data\": \"2009-08-01T00:00:00\", \"Vendas reais (varejo)\": 73.6}, {\"Data\": \"2009-09-01T00:00:00\", \"Vendas reais (varejo)\": 74.3}, {\"Data\": \"2009-01-01T00:00:00\", \"Vendas reais (varejo)\": 75.7}, {\"Data\": \"2009-11-01T00:00:00\", \"Vendas reais (varejo)\": 76.4}, {\"Data\": \"2009-12-01T00:00:00\", \"Vendas reais (varejo)\": 76.2}, {\"Data\": \"2010-01-01T00:00:00\", \"Vendas reais (varejo)\": 77.6}, {\"Data\": \"2010-02-01T00:00:00\", \"Vendas reais (varejo)\": 79.6}, {\"Data\": \"2010-03-01T00:00:00\", \"Vendas reais (varejo)\": 79.4}, {\"Data\": \"2010-04-01T00:00:00\", \"Vendas reais (varejo)\": 79.3}, {\"Data\": \"2010-05-01T00:00:00\", \"Vendas reais (varejo)\": 79.9}, {\"Data\": \"2010-06-01T00:00:00\", \"Vendas reais (varejo)\": 80.8}, {\"Data\": \"2010-07-01T00:00:00\", \"Vendas reais (varejo)\": 80.6}, {\"Data\": \"2010-08-01T00:00:00\", \"Vendas reais (varejo)\": 82.4}, {\"Data\": \"2010-09-01T00:00:00\", \"Vendas reais (varejo)\": 82.9}, {\"Data\": \"2010-01-01T00:00:00\", \"Vendas reais (varejo)\": 83.2}, {\"Data\": \"2010-11-01T00:00:00\", \"Vendas reais (varejo)\": 83.4}, {\"Data\": \"2010-12-01T00:00:00\", \"Vendas reais (varejo)\": 83.9}, {\"Data\": \"2011-01-01T00:00:00\", \"Vendas reais (varejo)\": 84.1}, {\"Data\": \"2011-02-01T00:00:00\", \"Vendas reais (varejo)\": 84.4}, {\"Data\": \"2011-03-01T00:00:00\", \"Vendas reais (varejo)\": 85.3}, {\"Data\": \"2011-04-01T00:00:00\", \"Vendas reais (varejo)\": 85.4}, {\"Data\": \"2011-05-01T00:00:00\", \"Vendas reais (varejo)\": 86.4}, {\"Data\": \"2011-06-01T00:00:00\", \"Vendas reais (varejo)\": 86.4}, {\"Data\": \"2011-07-01T00:00:00\", \"Vendas reais (varejo)\": 86.9}, {\"Data\": \"2011-08-01T00:00:00\", \"Vendas reais (varejo)\": 86.8}, {\"Data\": \"2011-09-01T00:00:00\", \"Vendas reais (varejo)\": 87.1}, {\"Data\": \"2011-01-01T00:00:00\", \"Vendas reais (varejo)\": 87.2}, {\"Data\": \"2011-11-01T00:00:00\", \"Vendas reais (varejo)\": 88.3}, {\"Data\": \"2011-12-01T00:00:00\", \"Vendas reais (varejo)\": 89.0}, {\"Data\": \"2012-01-01T00:00:00\", \"Vendas reais (varejo)\": 91.2}, {\"Data\": \"2012-02-01T00:00:00\", \"Vendas reais (varejo)\": 91.8}, {\"Data\": \"2012-03-01T00:00:00\", \"Vendas reais (varejo)\": 92.3}, {\"Data\": \"2012-04-01T00:00:00\", \"Vendas reais (varejo)\": 93.0}, {\"Data\": \"2012-05-01T00:00:00\", \"Vendas reais (varejo)\": 92.6}, {\"Data\": \"2012-06-01T00:00:00\", \"Vendas reais (varejo)\": 93.9}, {\"Data\": \"2012-07-01T00:00:00\", \"Vendas reais (varejo)\": 94.6}, {\"Data\": \"2012-08-01T00:00:00\", \"Vendas reais (varejo)\": 94.7}, {\"Data\": \"2012-09-01T00:00:00\", \"Vendas reais (varejo)\": 94.9}, {\"Data\": \"2012-01-01T00:00:00\", \"Vendas reais (varejo)\": 95.1}, {\"Data\": \"2012-11-01T00:00:00\", \"Vendas reais (varejo)\": 94.7}, {\"Data\": \"2012-12-01T00:00:00\", \"Vendas reais (varejo)\": 95.2}, {\"Data\": \"2013-01-01T00:00:00\", \"Vendas reais (varejo)\": 95.0}, {\"Data\": \"2013-02-01T00:00:00\", \"Vendas reais (varejo)\": 94.8}, {\"Data\": \"2013-03-01T00:00:00\", \"Vendas reais (varejo)\": 95.5}, {\"Data\": \"2013-04-01T00:00:00\", \"Vendas reais (varejo)\": 96.2}, {\"Data\": \"2013-05-01T00:00:00\", \"Vendas reais (varejo)\": 96.5}, {\"Data\": \"2013-06-01T00:00:00\", \"Vendas reais (varejo)\": 97.0}, {\"Data\": \"2013-07-01T00:00:00\", \"Vendas reais (varejo)\": 99.4}, {\"Data\": \"2013-08-01T00:00:00\", \"Vendas reais (varejo)\": 99.9}, {\"Data\": \"2013-09-01T00:00:00\", \"Vendas reais (varejo)\": 100.1}, {\"Data\": \"2013-01-01T00:00:00\", \"Vendas reais (varejo)\": 99.7}, {\"Data\": \"2013-11-01T00:00:00\", \"Vendas reais (varejo)\": 99.4}, {\"Data\": \"2013-12-01T00:00:00\", \"Vendas reais (varejo)\": 100.3}, {\"Data\": \"2014-01-01T00:00:00\", \"Vendas reais (varejo)\": 100.2}, {\"Data\": \"2014-02-01T00:00:00\", \"Vendas reais (varejo)\": 100.3}, {\"Data\": \"2014-03-01T00:00:00\", \"Vendas reais (varejo)\": 100.0}, {\"Data\": \"2014-04-01T00:00:00\", \"Vendas reais (varejo)\": 99.8}, {\"Data\": \"2014-05-01T00:00:00\", \"Vendas reais (varejo)\": 100.3}, {\"Data\": \"2014-06-01T00:00:00\", \"Vendas reais (varejo)\": 99.3}, {\"Data\": \"2014-07-01T00:00:00\", \"Vendas reais (varejo)\": 98.6}, {\"Data\": \"2014-08-01T00:00:00\", \"Vendas reais (varejo)\": 100.2}, {\"Data\": \"2014-09-01T00:00:00\", \"Vendas reais (varejo)\": 100.2}, {\"Data\": \"2014-01-01T00:00:00\", \"Vendas reais (varejo)\": 101.0}, {\"Data\": \"2014-11-01T00:00:00\", \"Vendas reais (varejo)\": 100.9}, {\"Data\": \"2014-12-01T00:00:00\", \"Vendas reais (varejo)\": 99.8}, {\"Data\": \"2015-01-01T00:00:00\", \"Vendas reais (varejo)\": 100.0}, {\"Data\": \"2015-02-01T00:00:00\", \"Vendas reais (varejo)\": 99.0}, {\"Data\": \"2015-03-01T00:00:00\", \"Vendas reais (varejo)\": 98.4}, {\"Data\": \"2015-04-01T00:00:00\", \"Vendas reais (varejo)\": 97.3}, {\"Data\": \"2015-05-01T00:00:00\", \"Vendas reais (varejo)\": 96.9}, {\"Data\": \"2015-06-01T00:00:00\", \"Vendas reais (varejo)\": 95.9}, {\"Data\": \"2015-07-01T00:00:00\", \"Vendas reais (varejo)\": 94.4}, {\"Data\": \"2015-08-01T00:00:00\", \"Vendas reais (varejo)\": 93.9}, {\"Data\": \"2015-09-01T00:00:00\", \"Vendas reais (varejo)\": 93.7}, {\"Data\": \"2015-01-01T00:00:00\", \"Vendas reais (varejo)\": 94.5}, {\"Data\": \"2015-11-01T00:00:00\", \"Vendas reais (varejo)\": 93.0}, {\"Data\": \"2015-12-01T00:00:00\", \"Vendas reais (varejo)\": 92.7}, {\"Data\": \"2016-01-01T00:00:00\", \"Vendas reais (varejo)\": 90.4}, {\"Data\": \"2016-02-01T00:00:00\", \"Vendas reais (varejo)\": 91.6}, {\"Data\": \"2016-03-01T00:00:00\", \"Vendas reais (varejo)\": 90.6}, {\"Data\": \"2016-04-01T00:00:00\", \"Vendas reais (varejo)\": 90.9}, {\"Data\": \"2016-05-01T00:00:00\", \"Vendas reais (varejo)\": 90.1}, {\"Data\": \"2016-06-01T00:00:00\", \"Vendas reais (varejo)\": 90.2}, {\"Data\": \"2016-07-01T00:00:00\", \"Vendas reais (varejo)\": 89.4}, {\"Data\": \"2016-08-01T00:00:00\", \"Vendas reais (varejo)\": 89.0}, {\"Data\": \"2016-09-01T00:00:00\", \"Vendas reais (varejo)\": 87.9}, {\"Data\": \"2016-01-01T00:00:00\", \"Vendas reais (varejo)\": 88.3}, {\"Data\": \"2016-11-01T00:00:00\", \"Vendas reais (varejo)\": 87.8}, {\"Data\": \"2016-12-01T00:00:00\", \"Vendas reais (varejo)\": 87.3}, {\"Data\": \"2017-01-01T00:00:00\", \"Vendas reais (varejo)\": 90.8}, {\"Data\": \"2017-02-01T00:00:00\", \"Vendas reais (varejo)\": 91.2}, {\"Data\": \"2017-03-01T00:00:00\", \"Vendas reais (varejo)\": 89.3}, {\"Data\": \"2017-04-01T00:00:00\", \"Vendas reais (varejo)\": 91.3}, {\"Data\": \"2017-05-01T00:00:00\", \"Vendas reais (varejo)\": 91.5}, {\"Data\": \"2017-06-01T00:00:00\", \"Vendas reais (varejo)\": 92.9}, {\"Data\": \"2017-07-01T00:00:00\", \"Vendas reais (varejo)\": 92.7}, {\"Data\": \"2017-08-01T00:00:00\", \"Vendas reais (varejo)\": 92.1}, {\"Data\": \"2017-09-01T00:00:00\", \"Vendas reais (varejo)\": 92.3}, {\"Data\": \"2017-01-01T00:00:00\", \"Vendas reais (varejo)\": 92.0}, {\"Data\": \"2017-11-01T00:00:00\", \"Vendas reais (varejo)\": 91.9}, {\"Data\": \"2017-12-01T00:00:00\", \"Vendas reais (varejo)\": 91.8}, {\"Data\": \"2018-01-01T00:00:00\", \"Vendas reais (varejo)\": 92.6}, {\"Data\": \"2018-02-01T00:00:00\", \"Vendas reais (varejo)\": 92.4}, {\"Data\": \"2018-03-01T00:00:00\", \"Vendas reais (varejo)\": 93.3}, {\"Data\": \"2018-04-01T00:00:00\", \"Vendas reais (varejo)\": 95.5}, {\"Data\": \"2018-05-01T00:00:00\", \"Vendas reais (varejo)\": 94.1}, {\"Data\": \"2018-06-01T00:00:00\", \"Vendas reais (varejo)\": 93.9}, {\"Data\": \"2018-07-01T00:00:00\", \"Vendas reais (varejo)\": 93.1}, {\"Data\": \"2018-08-01T00:00:00\", \"Vendas reais (varejo)\": 95.4}, {\"Data\": \"2018-09-01T00:00:00\", \"Vendas reais (varejo)\": 93.5}, {\"Data\": \"2018-01-01T00:00:00\", \"Vendas reais (varejo)\": 92.9}, {\"Data\": \"2018-11-01T00:00:00\", \"Vendas reais (varejo)\": 95.2}, {\"Data\": \"2018-12-01T00:00:00\", \"Vendas reais (varejo)\": 92.9}, {\"Data\": \"2019-01-01T00:00:00\", \"Vendas reais (varejo)\": 94.0}, {\"Data\": \"2019-02-01T00:00:00\", \"Vendas reais (varejo)\": 93.6}, {\"Data\": \"2019-03-01T00:00:00\", \"Vendas reais (varejo)\": 94.4}, {\"Data\": \"2019-04-01T00:00:00\", \"Vendas reais (varejo)\": 94.4}, {\"Data\": \"2019-05-01T00:00:00\", \"Vendas reais (varejo)\": 94.9}, {\"Data\": \"2019-06-01T00:00:00\", \"Vendas reais (varejo)\": 95.5}, {\"Data\": \"2019-07-01T00:00:00\", \"Vendas reais (varejo)\": 96.2}, {\"Data\": \"2019-08-01T00:00:00\", \"Vendas reais (varejo)\": 96.0}, {\"Data\": \"2019-09-01T00:00:00\", \"Vendas reais (varejo)\": 96.5}, {\"Data\": \"2019-01-01T00:00:00\", \"Vendas reais (varejo)\": 96.6}, {\"Data\": \"2019-11-01T00:00:00\", \"Vendas reais (varejo)\": 96.7}, {\"Data\": \"2019-12-01T00:00:00\", \"Vendas reais (varejo)\": 96.4}, {\"Data\": \"2020-01-01T00:00:00\", \"Vendas reais (varejo)\": 94.9}, {\"Data\": \"2020-02-01T00:00:00\", \"Vendas reais (varejo)\": 95.6}, {\"Data\": \"2020-03-01T00:00:00\", \"Vendas reais (varejo)\": 92.9}, {\"Data\": \"2020-04-01T00:00:00\", \"Vendas reais (varejo)\": 77.8}, {\"Data\": \"2020-05-01T00:00:00\", \"Vendas reais (varejo)\": 88.6}]}}, {\"mode\": \"vega-lite\"});\n",
              "</script>"
            ]
          },
          "metadata": {
            "tags": []
          },
          "execution_count": 4
        }
      ]
    },
    {
      "cell_type": "markdown",
      "metadata": {
        "id": "vIfoVeaEoe0F",
        "colab_type": "text"
      },
      "source": [
        "Os dados do Ipea confirmam a necessidade de soluções na área de varejo já que houve o pior valor nos últimos anos. Pelo nosso parceiro, decidimos olhar soluções bancárias para o problema. Primeiro ver como está o desempenho delas atualmente e dependendo das descobertas procurar soluções.\n",
        "\n",
        "\n",
        "# Análise do setor pelo Google Trends\n",
        "\n",
        "Utilizando o pytrends podemos acessar em código o google trends para obter dados de pesquisa de usuários, ganhando uma noção de interesse através dos termos mais pesquisados. \n",
        "\n",
        "Primeiro olhando para alguns termos do setor bancário em geral e o parceiro do hackathon, o Santander."
      ]
    },
    {
      "cell_type": "code",
      "metadata": {
        "id": "7BP0eHaxrq_Z",
        "colab_type": "code",
        "colab": {}
      },
      "source": [
        "from pytrends.request import TrendReq\n",
        "\n",
        "pytrend = TrendReq(hl='BR', tz=180)"
      ],
      "execution_count": 5,
      "outputs": []
    },
    {
      "cell_type": "code",
      "metadata": {
        "id": "5NLGDg_or5S1",
        "colab_type": "code",
        "colab": {
          "base_uri": "https://localhost:8080/",
          "height": 370
        },
        "outputId": "6ae69bc5-1fa3-4199-da74-08bf6426217f"
      },
      "source": [
        "palavras_chave = ['financiamento',\n",
        "            'financiamento santander',\n",
        "            'santander', 'banco']\n",
        "\n",
        "pytrend.build_payload(\n",
        "     kw_list=palavras_chave,\n",
        "     cat=0,\n",
        "     timeframe='2019-01-01 2020-06-01',\n",
        "     geo='BR',\n",
        "     gprop='')\n",
        "\n",
        "pytrend_data = pytrend.interest_over_time().drop(['isPartial'], axis=1)\n",
        "\n",
        "alt.Chart(pytrend_data.reset_index(),\n",
        "          title = ''\n",
        "          ).transform_fold(\n",
        "    palavras_chave,\n",
        "    ).mark_line().encode(\n",
        "    x=alt.X('date:T',\n",
        "            title='',\n",
        "            axis = alt.Axis(format=('%m/%y'))),\n",
        "    y=alt.Y('value:Q', \n",
        "            title='Index de buscas no Google'),\n",
        "    color=alt.Color('key:N', title='Termo')\n",
        ").properties(\n",
        "    title='Serviços bancários estão em alta em 2020'\n",
        ")"
      ],
      "execution_count": 6,
      "outputs": [
        {
          "output_type": "execute_result",
          "data": {
            "text/plain": [
              "alt.Chart(...)"
            ],
            "text/html": [
              "\n",
              "<div id=\"altair-viz-6b23a44dc48e45a7b54b83e8ca0f1967\"></div>\n",
              "<script type=\"text/javascript\">\n",
              "  (function(spec, embedOpt){\n",
              "    let outputDiv = document.currentScript.previousElementSibling;\n",
              "    if (outputDiv.id !== \"altair-viz-6b23a44dc48e45a7b54b83e8ca0f1967\") {\n",
              "      outputDiv = document.getElementById(\"altair-viz-6b23a44dc48e45a7b54b83e8ca0f1967\");\n",
              "    }\n",
              "    const paths = {\n",
              "      \"vega\": \"https://cdn.jsdelivr.net/npm//vega@5?noext\",\n",
              "      \"vega-lib\": \"https://cdn.jsdelivr.net/npm//vega-lib?noext\",\n",
              "      \"vega-lite\": \"https://cdn.jsdelivr.net/npm//vega-lite@4.8.1?noext\",\n",
              "      \"vega-embed\": \"https://cdn.jsdelivr.net/npm//vega-embed@6?noext\",\n",
              "    };\n",
              "\n",
              "    function loadScript(lib) {\n",
              "      return new Promise(function(resolve, reject) {\n",
              "        var s = document.createElement('script');\n",
              "        s.src = paths[lib];\n",
              "        s.async = true;\n",
              "        s.onload = () => resolve(paths[lib]);\n",
              "        s.onerror = () => reject(`Error loading script: ${paths[lib]}`);\n",
              "        document.getElementsByTagName(\"head\")[0].appendChild(s);\n",
              "      });\n",
              "    }\n",
              "\n",
              "    function showError(err) {\n",
              "      outputDiv.innerHTML = `<div class=\"error\" style=\"color:red;\">${err}</div>`;\n",
              "      throw err;\n",
              "    }\n",
              "\n",
              "    function displayChart(vegaEmbed) {\n",
              "      vegaEmbed(outputDiv, spec, embedOpt)\n",
              "        .catch(err => showError(`Javascript Error: ${err.message}<br>This usually means there's a typo in your chart specification. See the javascript console for the full traceback.`));\n",
              "    }\n",
              "\n",
              "    if(typeof define === \"function\" && define.amd) {\n",
              "      requirejs.config({paths});\n",
              "      require([\"vega-embed\"], displayChart, err => showError(`Error loading script: ${err.message}`));\n",
              "    } else if (typeof vegaEmbed === \"function\") {\n",
              "      displayChart(vegaEmbed);\n",
              "    } else {\n",
              "      loadScript(\"vega\")\n",
              "        .then(() => loadScript(\"vega-lite\"))\n",
              "        .then(() => loadScript(\"vega-embed\"))\n",
              "        .catch(showError)\n",
              "        .then(() => displayChart(vegaEmbed));\n",
              "    }\n",
              "  })({\"config\": {\"view\": {\"continuousWidth\": 400, \"continuousHeight\": 300}}, \"data\": {\"name\": \"data-ec9a272323c2748b2b5c37909b159e0b\"}, \"mark\": \"line\", \"encoding\": {\"color\": {\"type\": \"nominal\", \"field\": \"key\", \"title\": \"Termo\"}, \"x\": {\"type\": \"temporal\", \"axis\": {\"format\": \"%m/%y\"}, \"field\": \"date\", \"title\": \"\"}, \"y\": {\"type\": \"quantitative\", \"field\": \"value\", \"title\": \"Index de buscas no Google\"}}, \"title\": \"Servi\\u00e7os banc\\u00e1rios est\\u00e3o em alta em 2020\", \"transform\": [{\"fold\": [\"financiamento\", \"financiamento santander\", \"santander\", \"banco\"]}], \"$schema\": \"https://vega.github.io/schema/vega-lite/v4.8.1.json\", \"datasets\": {\"data-ec9a272323c2748b2b5c37909b159e0b\": [{\"date\": \"2019-01-06T00:00:00\", \"financiamento\": 10, \"financiamento santander\": 1, \"santander\": 44, \"banco\": 79}, {\"date\": \"2019-01-13T00:00:00\", \"financiamento\": 10, \"financiamento santander\": 1, \"santander\": 38, \"banco\": 71}, {\"date\": \"2019-01-20T00:00:00\", \"financiamento\": 9, \"financiamento santander\": 1, \"santander\": 34, \"banco\": 66}, {\"date\": \"2019-01-27T00:00:00\", \"financiamento\": 9, \"financiamento santander\": 1, \"santander\": 37, \"banco\": 69}, {\"date\": \"2019-02-03T00:00:00\", \"financiamento\": 9, \"financiamento santander\": 1, \"santander\": 42, \"banco\": 75}, {\"date\": \"2019-02-10T00:00:00\", \"financiamento\": 9, \"financiamento santander\": 1, \"santander\": 37, \"banco\": 68}, {\"date\": \"2019-02-17T00:00:00\", \"financiamento\": 9, \"financiamento santander\": 1, \"santander\": 36, \"banco\": 68}, {\"date\": \"2019-02-24T00:00:00\", \"financiamento\": 9, \"financiamento santander\": 1, \"santander\": 38, \"banco\": 73}, {\"date\": \"2019-03-03T00:00:00\", \"financiamento\": 8, \"financiamento santander\": 1, \"santander\": 35, \"banco\": 71}, {\"date\": \"2019-03-10T00:00:00\", \"financiamento\": 9, \"financiamento santander\": 1, \"santander\": 39, \"banco\": 75}, {\"date\": \"2019-03-17T00:00:00\", \"financiamento\": 9, \"financiamento santander\": 1, \"santander\": 36, \"banco\": 67}, {\"date\": \"2019-03-24T00:00:00\", \"financiamento\": 9, \"financiamento santander\": 1, \"santander\": 35, \"banco\": 67}, {\"date\": \"2019-03-31T00:00:00\", \"financiamento\": 9, \"financiamento santander\": 1, \"santander\": 42, \"banco\": 75}, {\"date\": \"2019-04-07T00:00:00\", \"financiamento\": 8, \"financiamento santander\": 1, \"santander\": 40, \"banco\": 73}, {\"date\": \"2019-04-14T00:00:00\", \"financiamento\": 8, \"financiamento santander\": 1, \"santander\": 35, \"banco\": 64}, {\"date\": \"2019-04-21T00:00:00\", \"financiamento\": 9, \"financiamento santander\": 1, \"santander\": 36, \"banco\": 75}, {\"date\": \"2019-04-28T00:00:00\", \"financiamento\": 9, \"financiamento santander\": 1, \"santander\": 36, \"banco\": 70}, {\"date\": \"2019-05-05T00:00:00\", \"financiamento\": 8, \"financiamento santander\": 1, \"santander\": 39, \"banco\": 77}, {\"date\": \"2019-05-12T00:00:00\", \"financiamento\": 8, \"financiamento santander\": 1, \"santander\": 35, \"banco\": 68}, {\"date\": \"2019-05-19T00:00:00\", \"financiamento\": 8, \"financiamento santander\": 1, \"santander\": 31, \"banco\": 65}, {\"date\": \"2019-05-26T00:00:00\", \"financiamento\": 8, \"financiamento santander\": 1, \"santander\": 32, \"banco\": 64}, {\"date\": \"2019-06-02T00:00:00\", \"financiamento\": 8, \"financiamento santander\": 1, \"santander\": 36, \"banco\": 69}, {\"date\": \"2019-06-09T00:00:00\", \"financiamento\": 7, \"financiamento santander\": 1, \"santander\": 34, \"banco\": 68}, {\"date\": \"2019-06-16T00:00:00\", \"financiamento\": 8, \"financiamento santander\": 1, \"santander\": 32, \"banco\": 66}, {\"date\": \"2019-06-23T00:00:00\", \"financiamento\": 9, \"financiamento santander\": 1, \"santander\": 34, \"banco\": 67}, {\"date\": \"2019-06-30T00:00:00\", \"financiamento\": 8, \"financiamento santander\": 1, \"santander\": 39, \"banco\": 75}, {\"date\": \"2019-07-07T00:00:00\", \"financiamento\": 8, \"financiamento santander\": 1, \"santander\": 36, \"banco\": 75}, {\"date\": \"2019-07-14T00:00:00\", \"financiamento\": 9, \"financiamento santander\": 1, \"santander\": 35, \"banco\": 68}, {\"date\": \"2019-07-21T00:00:00\", \"financiamento\": 9, \"financiamento santander\": 1, \"santander\": 32, \"banco\": 68}, {\"date\": \"2019-07-28T00:00:00\", \"financiamento\": 9, \"financiamento santander\": 1, \"santander\": 35, \"banco\": 71}, {\"date\": \"2019-08-04T00:00:00\", \"financiamento\": 9, \"financiamento santander\": 1, \"santander\": 37, \"banco\": 75}, {\"date\": \"2019-08-11T00:00:00\", \"financiamento\": 9, \"financiamento santander\": 1, \"santander\": 35, \"banco\": 73}, {\"date\": \"2019-08-18T00:00:00\", \"financiamento\": 11, \"financiamento santander\": 1, \"santander\": 32, \"banco\": 71}, {\"date\": \"2019-08-25T00:00:00\", \"financiamento\": 9, \"financiamento santander\": 1, \"santander\": 33, \"banco\": 70}, {\"date\": \"2019-09-01T00:00:00\", \"financiamento\": 9, \"financiamento santander\": 1, \"santander\": 37, \"banco\": 76}, {\"date\": \"2019-09-08T00:00:00\", \"financiamento\": 9, \"financiamento santander\": 1, \"santander\": 35, \"banco\": 73}, {\"date\": \"2019-09-15T00:00:00\", \"financiamento\": 9, \"financiamento santander\": 1, \"santander\": 31, \"banco\": 69}, {\"date\": \"2019-09-22T00:00:00\", \"financiamento\": 8, \"financiamento santander\": 1, \"santander\": 29, \"banco\": 67}, {\"date\": \"2019-09-29T00:00:00\", \"financiamento\": 9, \"financiamento santander\": 1, \"santander\": 36, \"banco\": 73}, {\"date\": \"2019-10-06T00:00:00\", \"financiamento\": 9, \"financiamento santander\": 1, \"santander\": 34, \"banco\": 74}, {\"date\": \"2019-10-13T00:00:00\", \"financiamento\": 9, \"financiamento santander\": 1, \"santander\": 30, \"banco\": 66}, {\"date\": \"2019-10-20T00:00:00\", \"financiamento\": 8, \"financiamento santander\": 1, \"santander\": 28, \"banco\": 66}, {\"date\": \"2019-10-27T00:00:00\", \"financiamento\": 9, \"financiamento santander\": 1, \"santander\": 30, \"banco\": 68}, {\"date\": \"2019-11-03T00:00:00\", \"financiamento\": 8, \"financiamento santander\": 1, \"santander\": 34, \"banco\": 71}, {\"date\": \"2019-11-10T00:00:00\", \"financiamento\": 9, \"financiamento santander\": 1, \"santander\": 30, \"banco\": 65}, {\"date\": \"2019-11-17T00:00:00\", \"financiamento\": 9, \"financiamento santander\": 1, \"santander\": 31, \"banco\": 66}, {\"date\": \"2019-11-24T00:00:00\", \"financiamento\": 8, \"financiamento santander\": 1, \"santander\": 32, \"banco\": 65}, {\"date\": \"2019-12-01T00:00:00\", \"financiamento\": 8, \"financiamento santander\": 1, \"santander\": 36, \"banco\": 75}, {\"date\": \"2019-12-08T00:00:00\", \"financiamento\": 8, \"financiamento santander\": 1, \"santander\": 34, \"banco\": 72}, {\"date\": \"2019-12-15T00:00:00\", \"financiamento\": 8, \"financiamento santander\": 1, \"santander\": 32, \"banco\": 73}, {\"date\": \"2019-12-22T00:00:00\", \"financiamento\": 7, \"financiamento santander\": 1, \"santander\": 27, \"banco\": 69}, {\"date\": \"2019-12-29T00:00:00\", \"financiamento\": 8, \"financiamento santander\": 1, \"santander\": 28, \"banco\": 63}, {\"date\": \"2020-01-05T00:00:00\", \"financiamento\": 10, \"financiamento santander\": 1, \"santander\": 39, \"banco\": 78}, {\"date\": \"2020-01-12T00:00:00\", \"financiamento\": 10, \"financiamento santander\": 1, \"santander\": 32, \"banco\": 71}, {\"date\": \"2020-01-19T00:00:00\", \"financiamento\": 10, \"financiamento santander\": 1, \"santander\": 30, \"banco\": 69}, {\"date\": \"2020-01-26T00:00:00\", \"financiamento\": 10, \"financiamento santander\": 1, \"santander\": 31, \"banco\": 69}, {\"date\": \"2020-02-02T00:00:00\", \"financiamento\": 10, \"financiamento santander\": 1, \"santander\": 34, \"banco\": 77}, {\"date\": \"2020-02-09T00:00:00\", \"financiamento\": 9, \"financiamento santander\": 1, \"santander\": 32, \"banco\": 75}, {\"date\": \"2020-02-16T00:00:00\", \"financiamento\": 9, \"financiamento santander\": 1, \"santander\": 30, \"banco\": 74}, {\"date\": \"2020-02-23T00:00:00\", \"financiamento\": 9, \"financiamento santander\": 1, \"santander\": 28, \"banco\": 67}, {\"date\": \"2020-03-01T00:00:00\", \"financiamento\": 10, \"financiamento santander\": 1, \"santander\": 34, \"banco\": 78}, {\"date\": \"2020-03-08T00:00:00\", \"financiamento\": 9, \"financiamento santander\": 1, \"santander\": 34, \"banco\": 77}, {\"date\": \"2020-03-15T00:00:00\", \"financiamento\": 9, \"financiamento santander\": 1, \"santander\": 33, \"banco\": 75}, {\"date\": \"2020-03-22T00:00:00\", \"financiamento\": 16, \"financiamento santander\": 2, \"santander\": 34, \"banco\": 86}, {\"date\": \"2020-03-29T00:00:00\", \"financiamento\": 14, \"financiamento santander\": 2, \"santander\": 39, \"banco\": 91}, {\"date\": \"2020-04-05T00:00:00\", \"financiamento\": 13, \"financiamento santander\": 2, \"santander\": 37, \"banco\": 98}, {\"date\": \"2020-04-12T00:00:00\", \"financiamento\": 15, \"financiamento santander\": 4, \"santander\": 47, \"banco\": 100}, {\"date\": \"2020-04-19T00:00:00\", \"financiamento\": 12, \"financiamento santander\": 2, \"santander\": 32, \"banco\": 86}, {\"date\": \"2020-04-26T00:00:00\", \"financiamento\": 11, \"financiamento santander\": 2, \"santander\": 31, \"banco\": 83}, {\"date\": \"2020-05-03T00:00:00\", \"financiamento\": 11, \"financiamento santander\": 2, \"santander\": 37, \"banco\": 90}, {\"date\": \"2020-05-10T00:00:00\", \"financiamento\": 11, \"financiamento santander\": 2, \"santander\": 32, \"banco\": 80}, {\"date\": \"2020-05-17T00:00:00\", \"financiamento\": 11, \"financiamento santander\": 1, \"santander\": 28, \"banco\": 79}, {\"date\": \"2020-05-24T00:00:00\", \"financiamento\": 10, \"financiamento santander\": 1, \"santander\": 28, \"banco\": 78}, {\"date\": \"2020-05-31T00:00:00\", \"financiamento\": 10, \"financiamento santander\": 1, \"santander\": 32, \"banco\": 84}]}}, {\"mode\": \"vega-lite\"});\n",
              "</script>"
            ]
          },
          "metadata": {
            "tags": []
          },
          "execution_count": 6
        }
      ]
    },
    {
      "cell_type": "markdown",
      "metadata": {
        "id": "HaI_dJVZqUHM",
        "colab_type": "text"
      },
      "source": [
        "Os termos ligados a bancos tiveram um alta esse ano como consequência da pandemia. O que mostra solução desse tipo já é procurada por negócios normalmente e portanto já é um canal que aproxima a solução dos afetados. Podendo até mesmo usar um produto já criado para implementar outro.\n",
        "\n",
        "Agora vamos olhar mais para uns termos em específico. Começando com financiamento, onde veremos os termos sugeridos pelo google para essa pesquisa.\n",
        "\n",
        "\n",
        "\n"
      ]
    },
    {
      "cell_type": "code",
      "metadata": {
        "id": "7ptJB6Jv33wY",
        "colab_type": "code",
        "colab": {
          "base_uri": "https://localhost:8080/",
          "height": 119
        },
        "outputId": "9711aa16-bfae-4dbe-bba8-71271b0887dc"
      },
      "source": [
        "related_pytrend = pytrend.related_queries()\n",
        "related_pytrend['financiamento']['rising'].head()['query']"
      ],
      "execution_count": 7,
      "outputs": [
        {
          "output_type": "execute_result",
          "data": {
            "text/plain": [
              "0    solicitar pausa financiamento caixa\n",
              "1          prorrogar financiamento caixa\n",
              "2              pausa financiamento caixa\n",
              "3                   pausar financiamento\n",
              "4           prorrogação de financiamento\n",
              "Name: query, dtype: object"
            ]
          },
          "metadata": {
            "tags": []
          },
          "execution_count": 7
        }
      ]
    },
    {
      "cell_type": "markdown",
      "metadata": {
        "id": "7E5b78UJ386N",
        "colab_type": "text"
      },
      "source": [
        "Termos de financiamento estão populares no momento devido a renegociação de dívidas pela pandemia. \n",
        "\n",
        "Agora olhando mais sobre crédito."
      ]
    },
    {
      "cell_type": "code",
      "metadata": {
        "id": "z8VLYZHB3pUI",
        "colab_type": "code",
        "colab": {
          "base_uri": "https://localhost:8080/",
          "height": 370
        },
        "outputId": "bf95fb96-4503-45c1-f6aa-2c6ba70c8042"
      },
      "source": [
        "palavras_chave = ['linha de crédito',\n",
        "            'crédito para empresas']\n",
        "\n",
        "pytrend.build_payload(\n",
        "     kw_list=palavras_chave,\n",
        "     cat=0,\n",
        "     timeframe='2019-01-01 2020-06-01',\n",
        "     geo='BR',\n",
        "     gprop='')\n",
        "\n",
        "pytrend_data = pytrend.interest_over_time().drop(['isPartial'], axis=1)\n",
        "\n",
        "alt.Chart(pytrend_data.reset_index(),\n",
        "          title = ''\n",
        "          ).transform_fold(\n",
        "    palavras_chave,\n",
        "    ).mark_line().encode(\n",
        "    x=alt.X('date:T',\n",
        "            title='',\n",
        "            axis = alt.Axis(format=('%m/%y'))),\n",
        "    y=alt.Y('value:Q', \n",
        "            title='Index de buscas no Google'),\n",
        "    color=alt.Color('key:N', title='Termo')\n",
        ").properties(\n",
        "    title='Pesquisas relacionadas a crédito cresceram durante a pandemia'\n",
        ")"
      ],
      "execution_count": 8,
      "outputs": [
        {
          "output_type": "execute_result",
          "data": {
            "text/plain": [
              "alt.Chart(...)"
            ],
            "text/html": [
              "\n",
              "<div id=\"altair-viz-6097fffa898a4de1be130236b16f35e0\"></div>\n",
              "<script type=\"text/javascript\">\n",
              "  (function(spec, embedOpt){\n",
              "    let outputDiv = document.currentScript.previousElementSibling;\n",
              "    if (outputDiv.id !== \"altair-viz-6097fffa898a4de1be130236b16f35e0\") {\n",
              "      outputDiv = document.getElementById(\"altair-viz-6097fffa898a4de1be130236b16f35e0\");\n",
              "    }\n",
              "    const paths = {\n",
              "      \"vega\": \"https://cdn.jsdelivr.net/npm//vega@5?noext\",\n",
              "      \"vega-lib\": \"https://cdn.jsdelivr.net/npm//vega-lib?noext\",\n",
              "      \"vega-lite\": \"https://cdn.jsdelivr.net/npm//vega-lite@4.8.1?noext\",\n",
              "      \"vega-embed\": \"https://cdn.jsdelivr.net/npm//vega-embed@6?noext\",\n",
              "    };\n",
              "\n",
              "    function loadScript(lib) {\n",
              "      return new Promise(function(resolve, reject) {\n",
              "        var s = document.createElement('script');\n",
              "        s.src = paths[lib];\n",
              "        s.async = true;\n",
              "        s.onload = () => resolve(paths[lib]);\n",
              "        s.onerror = () => reject(`Error loading script: ${paths[lib]}`);\n",
              "        document.getElementsByTagName(\"head\")[0].appendChild(s);\n",
              "      });\n",
              "    }\n",
              "\n",
              "    function showError(err) {\n",
              "      outputDiv.innerHTML = `<div class=\"error\" style=\"color:red;\">${err}</div>`;\n",
              "      throw err;\n",
              "    }\n",
              "\n",
              "    function displayChart(vegaEmbed) {\n",
              "      vegaEmbed(outputDiv, spec, embedOpt)\n",
              "        .catch(err => showError(`Javascript Error: ${err.message}<br>This usually means there's a typo in your chart specification. See the javascript console for the full traceback.`));\n",
              "    }\n",
              "\n",
              "    if(typeof define === \"function\" && define.amd) {\n",
              "      requirejs.config({paths});\n",
              "      require([\"vega-embed\"], displayChart, err => showError(`Error loading script: ${err.message}`));\n",
              "    } else if (typeof vegaEmbed === \"function\") {\n",
              "      displayChart(vegaEmbed);\n",
              "    } else {\n",
              "      loadScript(\"vega\")\n",
              "        .then(() => loadScript(\"vega-lite\"))\n",
              "        .then(() => loadScript(\"vega-embed\"))\n",
              "        .catch(showError)\n",
              "        .then(() => displayChart(vegaEmbed));\n",
              "    }\n",
              "  })({\"config\": {\"view\": {\"continuousWidth\": 400, \"continuousHeight\": 300}}, \"data\": {\"name\": \"data-24e79a4226434b77dba4db7c852e928c\"}, \"mark\": \"line\", \"encoding\": {\"color\": {\"type\": \"nominal\", \"field\": \"key\", \"title\": \"Termo\"}, \"x\": {\"type\": \"temporal\", \"axis\": {\"format\": \"%m/%y\"}, \"field\": \"date\", \"title\": \"\"}, \"y\": {\"type\": \"quantitative\", \"field\": \"value\", \"title\": \"Index de buscas no Google\"}}, \"title\": \"Pesquisas relacionadas a cr\\u00e9dito cresceram durante a pandemia\", \"transform\": [{\"fold\": [\"linha de cr\\u00e9dito\", \"cr\\u00e9dito para empresas\"]}], \"$schema\": \"https://vega.github.io/schema/vega-lite/v4.8.1.json\", \"datasets\": {\"data-24e79a4226434b77dba4db7c852e928c\": [{\"date\": \"2019-01-06T00:00:00\", \"linha de cr\\u00e9dito\": 7, \"cr\\u00e9dito para empresas\": 4}, {\"date\": \"2019-01-13T00:00:00\", \"linha de cr\\u00e9dito\": 20, \"cr\\u00e9dito para empresas\": 6}, {\"date\": \"2019-01-20T00:00:00\", \"linha de cr\\u00e9dito\": 16, \"cr\\u00e9dito para empresas\": 14}, {\"date\": \"2019-01-27T00:00:00\", \"linha de cr\\u00e9dito\": 23, \"cr\\u00e9dito para empresas\": 4}, {\"date\": \"2019-02-03T00:00:00\", \"linha de cr\\u00e9dito\": 11, \"cr\\u00e9dito para empresas\": 6}, {\"date\": \"2019-02-10T00:00:00\", \"linha de cr\\u00e9dito\": 9, \"cr\\u00e9dito para empresas\": 8}, {\"date\": \"2019-02-17T00:00:00\", \"linha de cr\\u00e9dito\": 11, \"cr\\u00e9dito para empresas\": 4}, {\"date\": \"2019-02-24T00:00:00\", \"linha de cr\\u00e9dito\": 16, \"cr\\u00e9dito para empresas\": 6}, {\"date\": \"2019-03-03T00:00:00\", \"linha de cr\\u00e9dito\": 15, \"cr\\u00e9dito para empresas\": 7}, {\"date\": \"2019-03-10T00:00:00\", \"linha de cr\\u00e9dito\": 16, \"cr\\u00e9dito para empresas\": 8}, {\"date\": \"2019-03-17T00:00:00\", \"linha de cr\\u00e9dito\": 22, \"cr\\u00e9dito para empresas\": 11}, {\"date\": \"2019-03-24T00:00:00\", \"linha de cr\\u00e9dito\": 31, \"cr\\u00e9dito para empresas\": 14}, {\"date\": \"2019-03-31T00:00:00\", \"linha de cr\\u00e9dito\": 10, \"cr\\u00e9dito para empresas\": 8}, {\"date\": \"2019-04-07T00:00:00\", \"linha de cr\\u00e9dito\": 12, \"cr\\u00e9dito para empresas\": 8}, {\"date\": \"2019-04-14T00:00:00\", \"linha de cr\\u00e9dito\": 19, \"cr\\u00e9dito para empresas\": 9}, {\"date\": \"2019-04-21T00:00:00\", \"linha de cr\\u00e9dito\": 22, \"cr\\u00e9dito para empresas\": 16}, {\"date\": \"2019-04-28T00:00:00\", \"linha de cr\\u00e9dito\": 18, \"cr\\u00e9dito para empresas\": 11}, {\"date\": \"2019-05-05T00:00:00\", \"linha de cr\\u00e9dito\": 12, \"cr\\u00e9dito para empresas\": 9}, {\"date\": \"2019-05-12T00:00:00\", \"linha de cr\\u00e9dito\": 16, \"cr\\u00e9dito para empresas\": 13}, {\"date\": \"2019-05-19T00:00:00\", \"linha de cr\\u00e9dito\": 12, \"cr\\u00e9dito para empresas\": 4}, {\"date\": \"2019-05-26T00:00:00\", \"linha de cr\\u00e9dito\": 18, \"cr\\u00e9dito para empresas\": 5}, {\"date\": \"2019-06-02T00:00:00\", \"linha de cr\\u00e9dito\": 13, \"cr\\u00e9dito para empresas\": 13}, {\"date\": \"2019-06-09T00:00:00\", \"linha de cr\\u00e9dito\": 14, \"cr\\u00e9dito para empresas\": 13}, {\"date\": \"2019-06-16T00:00:00\", \"linha de cr\\u00e9dito\": 21, \"cr\\u00e9dito para empresas\": 4}, {\"date\": \"2019-06-23T00:00:00\", \"linha de cr\\u00e9dito\": 12, \"cr\\u00e9dito para empresas\": 4}, {\"date\": \"2019-06-30T00:00:00\", \"linha de cr\\u00e9dito\": 8, \"cr\\u00e9dito para empresas\": 7}, {\"date\": \"2019-07-07T00:00:00\", \"linha de cr\\u00e9dito\": 8, \"cr\\u00e9dito para empresas\": 10}, {\"date\": \"2019-07-14T00:00:00\", \"linha de cr\\u00e9dito\": 15, \"cr\\u00e9dito para empresas\": 6}, {\"date\": \"2019-07-21T00:00:00\", \"linha de cr\\u00e9dito\": 20, \"cr\\u00e9dito para empresas\": 14}, {\"date\": \"2019-07-28T00:00:00\", \"linha de cr\\u00e9dito\": 20, \"cr\\u00e9dito para empresas\": 6}, {\"date\": \"2019-08-04T00:00:00\", \"linha de cr\\u00e9dito\": 16, \"cr\\u00e9dito para empresas\": 10}, {\"date\": \"2019-08-11T00:00:00\", \"linha de cr\\u00e9dito\": 13, \"cr\\u00e9dito para empresas\": 9}, {\"date\": \"2019-08-18T00:00:00\", \"linha de cr\\u00e9dito\": 33, \"cr\\u00e9dito para empresas\": 11}, {\"date\": \"2019-08-25T00:00:00\", \"linha de cr\\u00e9dito\": 23, \"cr\\u00e9dito para empresas\": 9}, {\"date\": \"2019-09-01T00:00:00\", \"linha de cr\\u00e9dito\": 10, \"cr\\u00e9dito para empresas\": 9}, {\"date\": \"2019-09-08T00:00:00\", \"linha de cr\\u00e9dito\": 19, \"cr\\u00e9dito para empresas\": 11}, {\"date\": \"2019-09-15T00:00:00\", \"linha de cr\\u00e9dito\": 29, \"cr\\u00e9dito para empresas\": 6}, {\"date\": \"2019-09-22T00:00:00\", \"linha de cr\\u00e9dito\": 16, \"cr\\u00e9dito para empresas\": 9}, {\"date\": \"2019-09-29T00:00:00\", \"linha de cr\\u00e9dito\": 14, \"cr\\u00e9dito para empresas\": 7}, {\"date\": \"2019-10-06T00:00:00\", \"linha de cr\\u00e9dito\": 11, \"cr\\u00e9dito para empresas\": 7}, {\"date\": \"2019-10-13T00:00:00\", \"linha de cr\\u00e9dito\": 24, \"cr\\u00e9dito para empresas\": 5}, {\"date\": \"2019-10-20T00:00:00\", \"linha de cr\\u00e9dito\": 14, \"cr\\u00e9dito para empresas\": 8}, {\"date\": \"2019-10-27T00:00:00\", \"linha de cr\\u00e9dito\": 11, \"cr\\u00e9dito para empresas\": 8}, {\"date\": \"2019-11-03T00:00:00\", \"linha de cr\\u00e9dito\": 8, \"cr\\u00e9dito para empresas\": 7}, {\"date\": \"2019-11-10T00:00:00\", \"linha de cr\\u00e9dito\": 15, \"cr\\u00e9dito para empresas\": 8}, {\"date\": \"2019-11-17T00:00:00\", \"linha de cr\\u00e9dito\": 10, \"cr\\u00e9dito para empresas\": 7}, {\"date\": \"2019-11-24T00:00:00\", \"linha de cr\\u00e9dito\": 20, \"cr\\u00e9dito para empresas\": 5}, {\"date\": \"2019-12-01T00:00:00\", \"linha de cr\\u00e9dito\": 11, \"cr\\u00e9dito para empresas\": 4}, {\"date\": \"2019-12-08T00:00:00\", \"linha de cr\\u00e9dito\": 6, \"cr\\u00e9dito para empresas\": 9}, {\"date\": \"2019-12-15T00:00:00\", \"linha de cr\\u00e9dito\": 9, \"cr\\u00e9dito para empresas\": 6}, {\"date\": \"2019-12-22T00:00:00\", \"linha de cr\\u00e9dito\": 11, \"cr\\u00e9dito para empresas\": 9}, {\"date\": \"2019-12-29T00:00:00\", \"linha de cr\\u00e9dito\": 11, \"cr\\u00e9dito para empresas\": 7}, {\"date\": \"2020-01-05T00:00:00\", \"linha de cr\\u00e9dito\": 5, \"cr\\u00e9dito para empresas\": 6}, {\"date\": \"2020-01-12T00:00:00\", \"linha de cr\\u00e9dito\": 12, \"cr\\u00e9dito para empresas\": 0}, {\"date\": \"2020-01-19T00:00:00\", \"linha de cr\\u00e9dito\": 13, \"cr\\u00e9dito para empresas\": 5}, {\"date\": \"2020-01-26T00:00:00\", \"linha de cr\\u00e9dito\": 13, \"cr\\u00e9dito para empresas\": 7}, {\"date\": \"2020-02-02T00:00:00\", \"linha de cr\\u00e9dito\": 15, \"cr\\u00e9dito para empresas\": 7}, {\"date\": \"2020-02-09T00:00:00\", \"linha de cr\\u00e9dito\": 17, \"cr\\u00e9dito para empresas\": 7}, {\"date\": \"2020-02-16T00:00:00\", \"linha de cr\\u00e9dito\": 16, \"cr\\u00e9dito para empresas\": 5}, {\"date\": \"2020-02-23T00:00:00\", \"linha de cr\\u00e9dito\": 16, \"cr\\u00e9dito para empresas\": 6}, {\"date\": \"2020-03-01T00:00:00\", \"linha de cr\\u00e9dito\": 13, \"cr\\u00e9dito para empresas\": 7}, {\"date\": \"2020-03-08T00:00:00\", \"linha de cr\\u00e9dito\": 12, \"cr\\u00e9dito para empresas\": 10}, {\"date\": \"2020-03-15T00:00:00\", \"linha de cr\\u00e9dito\": 47, \"cr\\u00e9dito para empresas\": 15}, {\"date\": \"2020-03-22T00:00:00\", \"linha de cr\\u00e9dito\": 67, \"cr\\u00e9dito para empresas\": 47}, {\"date\": \"2020-03-29T00:00:00\", \"linha de cr\\u00e9dito\": 80, \"cr\\u00e9dito para empresas\": 66}, {\"date\": \"2020-04-05T00:00:00\", \"linha de cr\\u00e9dito\": 74, \"cr\\u00e9dito para empresas\": 48}, {\"date\": \"2020-04-12T00:00:00\", \"linha de cr\\u00e9dito\": 68, \"cr\\u00e9dito para empresas\": 45}, {\"date\": \"2020-04-19T00:00:00\", \"linha de cr\\u00e9dito\": 100, \"cr\\u00e9dito para empresas\": 71}, {\"date\": \"2020-04-26T00:00:00\", \"linha de cr\\u00e9dito\": 66, \"cr\\u00e9dito para empresas\": 50}, {\"date\": \"2020-05-03T00:00:00\", \"linha de cr\\u00e9dito\": 41, \"cr\\u00e9dito para empresas\": 30}, {\"date\": \"2020-05-10T00:00:00\", \"linha de cr\\u00e9dito\": 42, \"cr\\u00e9dito para empresas\": 25}, {\"date\": \"2020-05-17T00:00:00\", \"linha de cr\\u00e9dito\": 76, \"cr\\u00e9dito para empresas\": 45}, {\"date\": \"2020-05-24T00:00:00\", \"linha de cr\\u00e9dito\": 59, \"cr\\u00e9dito para empresas\": 33}, {\"date\": \"2020-05-31T00:00:00\", \"linha de cr\\u00e9dito\": 47, \"cr\\u00e9dito para empresas\": 45}]}}, {\"mode\": \"vega-lite\"});\n",
              "</script>"
            ]
          },
          "metadata": {
            "tags": []
          },
          "execution_count": 8
        }
      ]
    },
    {
      "cell_type": "markdown",
      "metadata": {
        "id": "Sh_bD-P2q7Gl",
        "colab_type": "text"
      },
      "source": [
        "De novo confirmando que a demanda para produtos bancários está em alta, já que para muitos negócios eles significam a sobrevivência.\n",
        "\n",
        "Agora que já confirmamos o setor bancário como um setor em alta no momento e ligado ao público mais afetado pela crise, podemos ver alguns produtos ainda mais de nicho.\n",
        "\n",
        "O Santander possui alguns produtos direcionados a pequenos negócios, vamo ver como eles se comportaram e com a curva de 'crédito para empresas' para comparação do setor."
      ]
    },
    {
      "cell_type": "code",
      "metadata": {
        "id": "0JSHQOj6FmDG",
        "colab_type": "code",
        "colab": {
          "base_uri": "https://localhost:8080/",
          "height": 370
        },
        "outputId": "7cdf523f-c0bf-484e-d791-83a670191dcc"
      },
      "source": [
        "palavras_chave = ['santander prospera',\n",
        "            'santander copiloto',\n",
        "            'crédito para empresas']\n",
        "\n",
        "pytrend.build_payload(\n",
        "     kw_list=palavras_chave,\n",
        "     cat=0,\n",
        "     timeframe='2019-01-01 2020-06-01',\n",
        "     geo='BR',\n",
        "     gprop='')\n",
        "\n",
        "pytrend_data = pytrend.interest_over_time().drop(['isPartial'], axis=1)\n",
        "\n",
        "alt.Chart(pytrend_data.reset_index()\n",
        "          ).transform_fold(\n",
        "    palavras_chave,\n",
        "    ).mark_line().encode(\n",
        "    x=alt.X('date:T',\n",
        "            axis = alt.Axis(format=('%m/%y'),\n",
        "            title = '')),\n",
        "    y=alt.Y('value:Q', \n",
        "            title='Index de buscas no Google'),\n",
        "    color=alt.Color('key:N', title='Termo')\n",
        ").properties(\n",
        "    title='Copiloto e Prospera estão se popularizando mas há espaço de crescimento' \n",
        ")"
      ],
      "execution_count": 9,
      "outputs": [
        {
          "output_type": "execute_result",
          "data": {
            "text/plain": [
              "alt.Chart(...)"
            ],
            "text/html": [
              "\n",
              "<div id=\"altair-viz-2ad602e69cd74991b1f5efdec11d8f80\"></div>\n",
              "<script type=\"text/javascript\">\n",
              "  (function(spec, embedOpt){\n",
              "    let outputDiv = document.currentScript.previousElementSibling;\n",
              "    if (outputDiv.id !== \"altair-viz-2ad602e69cd74991b1f5efdec11d8f80\") {\n",
              "      outputDiv = document.getElementById(\"altair-viz-2ad602e69cd74991b1f5efdec11d8f80\");\n",
              "    }\n",
              "    const paths = {\n",
              "      \"vega\": \"https://cdn.jsdelivr.net/npm//vega@5?noext\",\n",
              "      \"vega-lib\": \"https://cdn.jsdelivr.net/npm//vega-lib?noext\",\n",
              "      \"vega-lite\": \"https://cdn.jsdelivr.net/npm//vega-lite@4.8.1?noext\",\n",
              "      \"vega-embed\": \"https://cdn.jsdelivr.net/npm//vega-embed@6?noext\",\n",
              "    };\n",
              "\n",
              "    function loadScript(lib) {\n",
              "      return new Promise(function(resolve, reject) {\n",
              "        var s = document.createElement('script');\n",
              "        s.src = paths[lib];\n",
              "        s.async = true;\n",
              "        s.onload = () => resolve(paths[lib]);\n",
              "        s.onerror = () => reject(`Error loading script: ${paths[lib]}`);\n",
              "        document.getElementsByTagName(\"head\")[0].appendChild(s);\n",
              "      });\n",
              "    }\n",
              "\n",
              "    function showError(err) {\n",
              "      outputDiv.innerHTML = `<div class=\"error\" style=\"color:red;\">${err}</div>`;\n",
              "      throw err;\n",
              "    }\n",
              "\n",
              "    function displayChart(vegaEmbed) {\n",
              "      vegaEmbed(outputDiv, spec, embedOpt)\n",
              "        .catch(err => showError(`Javascript Error: ${err.message}<br>This usually means there's a typo in your chart specification. See the javascript console for the full traceback.`));\n",
              "    }\n",
              "\n",
              "    if(typeof define === \"function\" && define.amd) {\n",
              "      requirejs.config({paths});\n",
              "      require([\"vega-embed\"], displayChart, err => showError(`Error loading script: ${err.message}`));\n",
              "    } else if (typeof vegaEmbed === \"function\") {\n",
              "      displayChart(vegaEmbed);\n",
              "    } else {\n",
              "      loadScript(\"vega\")\n",
              "        .then(() => loadScript(\"vega-lite\"))\n",
              "        .then(() => loadScript(\"vega-embed\"))\n",
              "        .catch(showError)\n",
              "        .then(() => displayChart(vegaEmbed));\n",
              "    }\n",
              "  })({\"config\": {\"view\": {\"continuousWidth\": 400, \"continuousHeight\": 300}}, \"data\": {\"name\": \"data-5e10a9e604c91c54c63a7f00375547dd\"}, \"mark\": \"line\", \"encoding\": {\"color\": {\"type\": \"nominal\", \"field\": \"key\", \"title\": \"Termo\"}, \"x\": {\"type\": \"temporal\", \"axis\": {\"format\": \"%m/%y\", \"title\": \"\"}, \"field\": \"date\"}, \"y\": {\"type\": \"quantitative\", \"field\": \"value\", \"title\": \"Index de buscas no Google\"}}, \"title\": \"Copiloto e Prospera est\\u00e3o se popularizando mas h\\u00e1 espa\\u00e7o de crescimento\", \"transform\": [{\"fold\": [\"santander prospera\", \"santander copiloto\", \"cr\\u00e9dito para empresas\"]}], \"$schema\": \"https://vega.github.io/schema/vega-lite/v4.8.1.json\", \"datasets\": {\"data-5e10a9e604c91c54c63a7f00375547dd\": [{\"date\": \"2019-01-06T00:00:00\", \"santander prospera\": 6, \"santander copiloto\": 0, \"cr\\u00e9dito para empresas\": 6}, {\"date\": \"2019-01-13T00:00:00\", \"santander prospera\": 6, \"santander copiloto\": 0, \"cr\\u00e9dito para empresas\": 9}, {\"date\": \"2019-01-20T00:00:00\", \"santander prospera\": 9, \"santander copiloto\": 0, \"cr\\u00e9dito para empresas\": 19}, {\"date\": \"2019-01-27T00:00:00\", \"santander prospera\": 6, \"santander copiloto\": 0, \"cr\\u00e9dito para empresas\": 6}, {\"date\": \"2019-02-03T00:00:00\", \"santander prospera\": 6, \"santander copiloto\": 0, \"cr\\u00e9dito para empresas\": 9}, {\"date\": \"2019-02-10T00:00:00\", \"santander prospera\": 7, \"santander copiloto\": 0, \"cr\\u00e9dito para empresas\": 11}, {\"date\": \"2019-02-17T00:00:00\", \"santander prospera\": 6, \"santander copiloto\": 0, \"cr\\u00e9dito para empresas\": 6}, {\"date\": \"2019-02-24T00:00:00\", \"santander prospera\": 17, \"santander copiloto\": 0, \"cr\\u00e9dito para empresas\": 9}, {\"date\": \"2019-03-03T00:00:00\", \"santander prospera\": 0, \"santander copiloto\": 0, \"cr\\u00e9dito para empresas\": 10}, {\"date\": \"2019-03-10T00:00:00\", \"santander prospera\": 6, \"santander copiloto\": 0, \"cr\\u00e9dito para empresas\": 12}, {\"date\": \"2019-03-17T00:00:00\", \"santander prospera\": 6, \"santander copiloto\": 0, \"cr\\u00e9dito para empresas\": 15}, {\"date\": \"2019-03-24T00:00:00\", \"santander prospera\": 6, \"santander copiloto\": 0, \"cr\\u00e9dito para empresas\": 19}, {\"date\": \"2019-03-31T00:00:00\", \"santander prospera\": 6, \"santander copiloto\": 0, \"cr\\u00e9dito para empresas\": 12}, {\"date\": \"2019-04-07T00:00:00\", \"santander prospera\": 11, \"santander copiloto\": 0, \"cr\\u00e9dito para empresas\": 12}, {\"date\": \"2019-04-14T00:00:00\", \"santander prospera\": 0, \"santander copiloto\": 0, \"cr\\u00e9dito para empresas\": 13}, {\"date\": \"2019-04-21T00:00:00\", \"santander prospera\": 6, \"santander copiloto\": 0, \"cr\\u00e9dito para empresas\": 23}, {\"date\": \"2019-04-28T00:00:00\", \"santander prospera\": 9, \"santander copiloto\": 0, \"cr\\u00e9dito para empresas\": 16}, {\"date\": \"2019-05-05T00:00:00\", \"santander prospera\": 6, \"santander copiloto\": 0, \"cr\\u00e9dito para empresas\": 13}, {\"date\": \"2019-05-12T00:00:00\", \"santander prospera\": 6, \"santander copiloto\": 0, \"cr\\u00e9dito para empresas\": 19}, {\"date\": \"2019-05-19T00:00:00\", \"santander prospera\": 22, \"santander copiloto\": 0, \"cr\\u00e9dito para empresas\": 6}, {\"date\": \"2019-05-26T00:00:00\", \"santander prospera\": 11, \"santander copiloto\": 0, \"cr\\u00e9dito para empresas\": 7}, {\"date\": \"2019-06-02T00:00:00\", \"santander prospera\": 8, \"santander copiloto\": 0, \"cr\\u00e9dito para empresas\": 18}, {\"date\": \"2019-06-09T00:00:00\", \"santander prospera\": 6, \"santander copiloto\": 0, \"cr\\u00e9dito para empresas\": 19}, {\"date\": \"2019-06-16T00:00:00\", \"santander prospera\": 10, \"santander copiloto\": 0, \"cr\\u00e9dito para empresas\": 6}, {\"date\": \"2019-06-23T00:00:00\", \"santander prospera\": 9, \"santander copiloto\": 0, \"cr\\u00e9dito para empresas\": 6}, {\"date\": \"2019-06-30T00:00:00\", \"santander prospera\": 9, \"santander copiloto\": 0, \"cr\\u00e9dito para empresas\": 10}, {\"date\": \"2019-07-07T00:00:00\", \"santander prospera\": 9, \"santander copiloto\": 0, \"cr\\u00e9dito para empresas\": 15}, {\"date\": \"2019-07-14T00:00:00\", \"santander prospera\": 8, \"santander copiloto\": 0, \"cr\\u00e9dito para empresas\": 9}, {\"date\": \"2019-07-21T00:00:00\", \"santander prospera\": 11, \"santander copiloto\": 0, \"cr\\u00e9dito para empresas\": 19}, {\"date\": \"2019-07-28T00:00:00\", \"santander prospera\": 8, \"santander copiloto\": 0, \"cr\\u00e9dito para empresas\": 9}, {\"date\": \"2019-08-04T00:00:00\", \"santander prospera\": 11, \"santander copiloto\": 0, \"cr\\u00e9dito para empresas\": 14}, {\"date\": \"2019-08-11T00:00:00\", \"santander prospera\": 9, \"santander copiloto\": 0, \"cr\\u00e9dito para empresas\": 13}, {\"date\": \"2019-08-18T00:00:00\", \"santander prospera\": 11, \"santander copiloto\": 0, \"cr\\u00e9dito para empresas\": 16}, {\"date\": \"2019-08-25T00:00:00\", \"santander prospera\": 8, \"santander copiloto\": 0, \"cr\\u00e9dito para empresas\": 13}, {\"date\": \"2019-09-01T00:00:00\", \"santander prospera\": 5, \"santander copiloto\": 0, \"cr\\u00e9dito para empresas\": 13}, {\"date\": \"2019-09-08T00:00:00\", \"santander prospera\": 16, \"santander copiloto\": 0, \"cr\\u00e9dito para empresas\": 16}, {\"date\": \"2019-09-15T00:00:00\", \"santander prospera\": 9, \"santander copiloto\": 0, \"cr\\u00e9dito para empresas\": 9}, {\"date\": \"2019-09-22T00:00:00\", \"santander prospera\": 8, \"santander copiloto\": 0, \"cr\\u00e9dito para empresas\": 12}, {\"date\": \"2019-09-29T00:00:00\", \"santander prospera\": 5, \"santander copiloto\": 0, \"cr\\u00e9dito para empresas\": 11}, {\"date\": \"2019-10-06T00:00:00\", \"santander prospera\": 5, \"santander copiloto\": 0, \"cr\\u00e9dito para empresas\": 11}, {\"date\": \"2019-10-13T00:00:00\", \"santander prospera\": 5, \"santander copiloto\": 0, \"cr\\u00e9dito para empresas\": 8}, {\"date\": \"2019-10-20T00:00:00\", \"santander prospera\": 8, \"santander copiloto\": 0, \"cr\\u00e9dito para empresas\": 12}, {\"date\": \"2019-10-27T00:00:00\", \"santander prospera\": 7, \"santander copiloto\": 0, \"cr\\u00e9dito para empresas\": 12}, {\"date\": \"2019-11-03T00:00:00\", \"santander prospera\": 10, \"santander copiloto\": 0, \"cr\\u00e9dito para empresas\": 10}, {\"date\": \"2019-11-10T00:00:00\", \"santander prospera\": 5, \"santander copiloto\": 0, \"cr\\u00e9dito para empresas\": 11}, {\"date\": \"2019-11-17T00:00:00\", \"santander prospera\": 10, \"santander copiloto\": 0, \"cr\\u00e9dito para empresas\": 10}, {\"date\": \"2019-11-24T00:00:00\", \"santander prospera\": 7, \"santander copiloto\": 0, \"cr\\u00e9dito para empresas\": 7}, {\"date\": \"2019-12-01T00:00:00\", \"santander prospera\": 10, \"santander copiloto\": 0, \"cr\\u00e9dito para empresas\": 5}, {\"date\": \"2019-12-08T00:00:00\", \"santander prospera\": 5, \"santander copiloto\": 0, \"cr\\u00e9dito para empresas\": 13}, {\"date\": \"2019-12-15T00:00:00\", \"santander prospera\": 5, \"santander copiloto\": 0, \"cr\\u00e9dito para empresas\": 9}, {\"date\": \"2019-12-22T00:00:00\", \"santander prospera\": 7, \"santander copiloto\": 0, \"cr\\u00e9dito para empresas\": 13}, {\"date\": \"2019-12-29T00:00:00\", \"santander prospera\": 12, \"santander copiloto\": 0, \"cr\\u00e9dito para empresas\": 9}, {\"date\": \"2020-01-05T00:00:00\", \"santander prospera\": 13, \"santander copiloto\": 0, \"cr\\u00e9dito para empresas\": 8}, {\"date\": \"2020-01-12T00:00:00\", \"santander prospera\": 7, \"santander copiloto\": 0, \"cr\\u00e9dito para empresas\": 0}, {\"date\": \"2020-01-19T00:00:00\", \"santander prospera\": 8, \"santander copiloto\": 0, \"cr\\u00e9dito para empresas\": 7}, {\"date\": \"2020-01-26T00:00:00\", \"santander prospera\": 5, \"santander copiloto\": 0, \"cr\\u00e9dito para empresas\": 10}, {\"date\": \"2020-02-02T00:00:00\", \"santander prospera\": 5, \"santander copiloto\": 0, \"cr\\u00e9dito para empresas\": 10}, {\"date\": \"2020-02-09T00:00:00\", \"santander prospera\": 8, \"santander copiloto\": 0, \"cr\\u00e9dito para empresas\": 10}, {\"date\": \"2020-02-16T00:00:00\", \"santander prospera\": 5, \"santander copiloto\": 0, \"cr\\u00e9dito para empresas\": 6}, {\"date\": \"2020-02-23T00:00:00\", \"santander prospera\": 0, \"santander copiloto\": 0, \"cr\\u00e9dito para empresas\": 8}, {\"date\": \"2020-03-01T00:00:00\", \"santander prospera\": 8, \"santander copiloto\": 0, \"cr\\u00e9dito para empresas\": 9}, {\"date\": \"2020-03-08T00:00:00\", \"santander prospera\": 5, \"santander copiloto\": 0, \"cr\\u00e9dito para empresas\": 14}, {\"date\": \"2020-03-15T00:00:00\", \"santander prospera\": 5, \"santander copiloto\": 0, \"cr\\u00e9dito para empresas\": 22}, {\"date\": \"2020-03-22T00:00:00\", \"santander prospera\": 14, \"santander copiloto\": 0, \"cr\\u00e9dito para empresas\": 67}, {\"date\": \"2020-03-29T00:00:00\", \"santander prospera\": 6, \"santander copiloto\": 9, \"cr\\u00e9dito para empresas\": 93}, {\"date\": \"2020-04-05T00:00:00\", \"santander prospera\": 6, \"santander copiloto\": 15, \"cr\\u00e9dito para empresas\": 67}, {\"date\": \"2020-04-12T00:00:00\", \"santander prospera\": 4, \"santander copiloto\": 4, \"cr\\u00e9dito para empresas\": 63}, {\"date\": \"2020-04-19T00:00:00\", \"santander prospera\": 9, \"santander copiloto\": 4, \"cr\\u00e9dito para empresas\": 100}, {\"date\": \"2020-04-26T00:00:00\", \"santander prospera\": 4, \"santander copiloto\": 6, \"cr\\u00e9dito para empresas\": 70}, {\"date\": \"2020-05-03T00:00:00\", \"santander prospera\": 4, \"santander copiloto\": 4, \"cr\\u00e9dito para empresas\": 43}, {\"date\": \"2020-05-10T00:00:00\", \"santander prospera\": 4, \"santander copiloto\": 0, \"cr\\u00e9dito para empresas\": 35}, {\"date\": \"2020-05-17T00:00:00\", \"santander prospera\": 4, \"santander copiloto\": 10, \"cr\\u00e9dito para empresas\": 63}, {\"date\": \"2020-05-24T00:00:00\", \"santander prospera\": 4, \"santander copiloto\": 13, \"cr\\u00e9dito para empresas\": 46}, {\"date\": \"2020-05-31T00:00:00\", \"santander prospera\": 4, \"santander copiloto\": 12, \"cr\\u00e9dito para empresas\": 63}]}}, {\"mode\": \"vega-lite\"});\n",
              "</script>"
            ]
          },
          "metadata": {
            "tags": []
          },
          "execution_count": 9
        }
      ]
    },
    {
      "cell_type": "markdown",
      "metadata": {
        "id": "yMIGJejjwM-I",
        "colab_type": "text"
      },
      "source": [
        "O setor de crédito e financiamento para empresas está em alta mas as soluções Prospera e Copiloto ainda podem ganhar espaço e atingir mais pequenas empresas.\n",
        "\n",
        "Decidimos então aproveitar essa oportunidade para criar uma solução em conjunto com esses negócios. Aproveitando a alta do setor bancário e também ajudando a impulsioná-los.\n",
        "\n",
        "# Conclusão\n",
        "\n",
        "Com essa análise nossos esforços foram direcionados para um serviço que ajude pequenas empresas a entenderem melhor seu público e, assim, ajudando-as a sobreviver. A solução foi feita em associação a um produto já existente do Banco Santander.\n",
        "\n",
        "[Solução](www.link para solução)"
      ]
    }
  ]
}